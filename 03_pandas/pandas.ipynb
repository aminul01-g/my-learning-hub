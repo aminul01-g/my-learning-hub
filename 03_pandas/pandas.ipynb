{
 "cells": [
  {
   "cell_type": "markdown",
   "id": "f9cfa12b",
   "metadata": {},
   "source": [
    "#### **🔧 Step 1: Install Pandas**"
   ]
  },
  {
   "cell_type": "markdown",
   "id": "724f88b7",
   "metadata": {},
   "source": [
    "## 🔹 1. What is Pandas?\n",
    "\n",
    "Pandas is a Python library for data manipulation and analysis. You’ll use it almost every time you work with data."
   ]
  },
  {
   "cell_type": "code",
   "execution_count": 2,
   "id": "824dd6c4",
   "metadata": {},
   "outputs": [
    {
     "name": "stdout",
     "output_type": "stream",
     "text": [
      "Requirement already satisfied: pandas in /home/aminul/anaconda3/envs/butterfly/lib/python3.12/site-packages (2.2.3)\n",
      "Requirement already satisfied: numpy>=1.26.0 in /home/aminul/anaconda3/envs/butterfly/lib/python3.12/site-packages (from pandas) (2.0.1)\n",
      "Requirement already satisfied: python-dateutil>=2.8.2 in /home/aminul/anaconda3/envs/butterfly/lib/python3.12/site-packages (from pandas) (2.9.0.post0)\n",
      "Requirement already satisfied: pytz>=2020.1 in /home/aminul/anaconda3/envs/butterfly/lib/python3.12/site-packages (from pandas) (2024.1)\n",
      "Requirement already satisfied: tzdata>=2022.7 in /home/aminul/anaconda3/envs/butterfly/lib/python3.12/site-packages (from pandas) (2023.3)\n",
      "Requirement already satisfied: six>=1.5 in /home/aminul/anaconda3/envs/butterfly/lib/python3.12/site-packages (from python-dateutil>=2.8.2->pandas) (1.16.0)\n",
      "Note: you may need to restart the kernel to use updated packages.\n"
     ]
    }
   ],
   "source": [
    "pip install pandas"
   ]
  },
  {
   "cell_type": "markdown",
   "id": "1fcd79d1",
   "metadata": {},
   "source": [
    "#### **Step 2: Import Pandas & Create a Simple DataFrame**"
   ]
  },
  {
   "cell_type": "code",
   "execution_count": 3,
   "id": "6ddb4a59",
   "metadata": {},
   "outputs": [
    {
     "name": "stdout",
     "output_type": "stream",
     "text": [
      "      name  age         city\n",
      "0    Alice   25     New York\n",
      "1      Bob   30  Los Angeles\n",
      "2  Charlie   35      Chicago\n"
     ]
    }
   ],
   "source": [
    "import pandas as pd\n",
    "\n",
    "# Simple data\n",
    "\n",
    "data = {\n",
    "    'name': ['Alice', 'Bob', 'Charlie'],\n",
    "    'age': [25, 30, 35],\n",
    "    'city': ['New York', 'Los Angeles', 'Chicago']\n",
    "}\n",
    "\n",
    "df  = pd.DataFrame(data)\n",
    "\n",
    "print(df)\n"
   ]
  },
  {
   "cell_type": "markdown",
   "id": "fa734253",
   "metadata": {},
   "source": [
    "#### **Step 3: Inspect the Data**"
   ]
  },
  {
   "cell_type": "code",
   "execution_count": 4,
   "id": "285db1d2",
   "metadata": {},
   "outputs": [
    {
     "name": "stdout",
     "output_type": "stream",
     "text": [
      "* First 5 rows of the DataFrame:\n",
      "      name  age         city\n",
      "0    Alice   25     New York\n",
      "1      Bob   30  Los Angeles\n",
      "2  Charlie   35      Chicago\n",
      "\n",
      "* Summary: columns, types, nulls:\n",
      "\n",
      "<class 'pandas.core.frame.DataFrame'>\n",
      "RangeIndex: 3 entries, 0 to 2\n",
      "Data columns (total 3 columns):\n",
      " #   Column  Non-Null Count  Dtype \n",
      "---  ------  --------------  ----- \n",
      " 0   name    3 non-null      object\n",
      " 1   age     3 non-null      int64 \n",
      " 2   city    3 non-null      object\n",
      "dtypes: int64(1), object(2)\n",
      "memory usage: 204.0+ bytes\n",
      "None\n",
      "\n",
      "* Stats for numeric columns: \n",
      "\n",
      "        age\n",
      "count   3.0\n",
      "mean   30.0\n",
      "std     5.0\n",
      "min    25.0\n",
      "25%    27.5\n",
      "50%    30.0\n",
      "75%    32.5\n",
      "max    35.0\n",
      "\n",
      "* Columns names:\n",
      "Index(['name', 'age', 'city'], dtype='object')\n",
      "\n",
      "* (row, columns):\n",
      "(3, 3)\n"
     ]
    }
   ],
   "source": [
    "print(\"* First 5 rows of the DataFrame:\")\n",
    "print(df.head())\n",
    "\n",
    "print(\"\\n* Summary: columns, types, nulls:\\n\")\n",
    "print(df.info())\n",
    "\n",
    "print(\"\\n* Stats for numeric columns: \\n\")\n",
    "print(df.describe())\n",
    "\n",
    "print(\"\\n* Columns names:\")\n",
    "print(df.columns)\n",
    "\n",
    "print(\"\\n* (row, columns):\")\n",
    "print(df.shape)"
   ]
  },
  {
   "cell_type": "markdown",
   "id": "090585f3",
   "metadata": {},
   "source": [
    "#### **🧪 Mini Exercise**\n",
    "\n",
    "1. Create a DataFrame with 4 people, their names, salaries, and job titles.\n",
    "\n",
    "2. Print:\n",
    "\n",
    "    First 2 rows\n",
    "\n",
    "    Column names\n",
    "\n",
    "    Mean salary"
   ]
  },
  {
   "cell_type": "code",
   "execution_count": 5,
   "id": "0b08e40c",
   "metadata": {},
   "outputs": [],
   "source": [
    "data = {\n",
    "    'name' : ['Alice', 'Bob', 'Charlie'],\n",
    "    'salary' : [70000, 80000, 90000],\n",
    "    'job' : ['Engineer', 'Doctor', 'Artist'],\n",
    "}\n",
    "\n",
    "df = pd.DataFrame(data)"
   ]
  },
  {
   "cell_type": "code",
   "execution_count": 6,
   "id": "196877ce",
   "metadata": {},
   "outputs": [
    {
     "name": "stdout",
     "output_type": "stream",
     "text": [
      "    name  salary       job\n",
      "0  Alice   70000  Engineer\n",
      "1    Bob   80000    Doctor\n",
      "Index(['name', 'salary', 'job'], dtype='object')\n",
      "Mean salary:  80000 2\n"
     ]
    }
   ],
   "source": [
    "print (df.head(2))\n",
    "\n",
    "print(df.columns)\n",
    "\n",
    "meanSalary = df['salary'].mean()\n",
    "print(\"Mean salary: \", round(meanSalary),2)"
   ]
  },
  {
   "cell_type": "markdown",
   "id": "472c7e45",
   "metadata": {},
   "source": [
    "### **📘 Lesson 2: Selecting, Filtering & Sorting Data**"
   ]
  },
  {
   "cell_type": "markdown",
   "id": "06f9eb72",
   "metadata": {},
   "source": [
    "#### **🔹1. Selecting columns**"
   ]
  },
  {
   "cell_type": "code",
   "execution_count": 7,
   "id": "1939f275",
   "metadata": {},
   "outputs": [
    {
     "name": "stdout",
     "output_type": "stream",
     "text": [
      "Salary:\n",
      "\n",
      "0    70000\n",
      "1    80000\n",
      "2    90000\n",
      "Name: salary, dtype: int64\n",
      "name & job:\n",
      "\n",
      "      name       job\n",
      "0    Alice  Engineer\n",
      "1      Bob    Doctor\n",
      "2  Charlie    Artist\n"
     ]
    }
   ],
   "source": [
    "print(\"Salary:\\n\")\n",
    "print(df['salary'])\n",
    "\n",
    "print(\"name & job:\\n\")\n",
    "print(df[['name', 'job']])"
   ]
  },
  {
   "cell_type": "markdown",
   "id": "314af540",
   "metadata": {},
   "source": [
    "#### **🔹2. Selecting Rows by index**"
   ]
  },
  {
   "cell_type": "code",
   "execution_count": 8,
   "id": "a6e02cb4",
   "metadata": {},
   "outputs": [
    {
     "name": "stdout",
     "output_type": "stream",
     "text": [
      "Row with index 0:\n",
      "\n",
      "name         Alice\n",
      "salary       70000\n",
      "job       Engineer\n",
      "Name: 0, dtype: object\n",
      "Row at position 1:\n",
      "\n",
      "name         Bob\n",
      "salary     80000\n",
      "job       Doctor\n",
      "Name: 1, dtype: object\n"
     ]
    }
   ],
   "source": [
    "print(\"Row with index 0:\\n\")\n",
    "print(df.loc[0])\n",
    "\n",
    "print(\"Row at position 1:\\n\")\n",
    "print(df.iloc[1])"
   ]
  },
  {
   "cell_type": "markdown",
   "id": "97ee22ac",
   "metadata": {},
   "source": [
    "* loc[]: label-based (actual index)\n",
    "\n",
    "* iloc[]: position-based (row number)"
   ]
  },
  {
   "cell_type": "markdown",
   "id": "a5121144",
   "metadata": {},
   "source": [
    "#### **🔹 3. Filtering Rows with Conditions**"
   ]
  },
  {
   "cell_type": "code",
   "execution_count": 9,
   "id": "ff1e2f28",
   "metadata": {},
   "outputs": [
    {
     "name": "stdout",
     "output_type": "stream",
     "text": [
      "Pople with salary > 75000:\n",
      "\n",
      "Engineers:\n",
      "\n",
      "    name  salary       job\n",
      "0  Alice   70000  Engineer\n"
     ]
    }
   ],
   "source": [
    "print(\"Pople with salary > 75000:\\n\")\n",
    "high_paid = df[df['salary']> 75000]\n",
    "\n",
    "print(\"Engineers:\\n\")\n",
    "engineers = df[df['job'] == 'Engineer']\n",
    "print(engineers)"
   ]
  },
  {
   "cell_type": "markdown",
   "id": "98e12ad8",
   "metadata": {},
   "source": [
    "#### **🔹 4. Sorting Rows**"
   ]
  },
  {
   "cell_type": "code",
   "execution_count": 10,
   "id": "df0d8461",
   "metadata": {},
   "outputs": [
    {
     "name": "stdout",
     "output_type": "stream",
     "text": [
      "      name  salary       job\n",
      "0    Alice   70000  Engineer\n",
      "1      Bob   80000    Doctor\n",
      "2  Charlie   90000    Artist\n",
      "\n",
      "\n",
      "      name  salary       job\n",
      "2  Charlie   90000    Artist\n",
      "1      Bob   80000    Doctor\n",
      "0    Alice   70000  Engineer\n"
     ]
    }
   ],
   "source": [
    "# Sort by salary:\n",
    "print (df.sort_values('salary'))\n",
    "\n",
    "print(\"\\n\")\n",
    "# sort by name (descending):\n",
    "print (df.sort_values('name', ascending=False))"
   ]
  },
  {
   "cell_type": "markdown",
   "id": "c6297ab1",
   "metadata": {},
   "source": [
    "#### **🧪 Exercise Time!**\n",
    "\n",
    "1. Add one more person to the data (your choice).\n",
    "\n",
    "2. Select only the 'name' and 'job' columns.\n",
    "\n",
    "3. Filter people with salary over 75000.\n",
    "\n",
    "4. Sort the DataFrame by salary in descending order."
   ]
  },
  {
   "cell_type": "code",
   "execution_count": 11,
   "id": "f2e0f1f1",
   "metadata": {},
   "outputs": [
    {
     "name": "stdout",
     "output_type": "stream",
     "text": [
      "      name  salary       job\n",
      "0    Alice   70000  Engineer\n",
      "1      Bob   80000    Doctor\n",
      "2  Charlie   90000    Artist\n",
      "3   Aminul  100000  Engineer\n"
     ]
    }
   ],
   "source": [
    "data = {\n",
    "    'name' : ['Alice', 'Bob', 'Charlie', 'Aminul'],\n",
    "    'salary' : [70000, 80000, 90000, 100000],\n",
    "    'job' : ['Engineer', 'Doctor', 'Artist', 'Engineer'],\n",
    "}\n",
    "\n",
    "df = pd.DataFrame(data)\n",
    "print(df)"
   ]
  },
  {
   "cell_type": "code",
   "execution_count": 12,
   "id": "3ab5673f",
   "metadata": {},
   "outputs": [
    {
     "name": "stdout",
     "output_type": "stream",
     "text": [
      "      name       job\n",
      "0    Alice  Engineer\n",
      "1      Bob    Doctor\n",
      "2  Charlie    Artist\n",
      "3   Aminul  Engineer\n"
     ]
    }
   ],
   "source": [
    "print (df[['name','job']])"
   ]
  },
  {
   "cell_type": "code",
   "execution_count": 13,
   "id": "8cf6ad23",
   "metadata": {},
   "outputs": [
    {
     "name": "stdout",
     "output_type": "stream",
     "text": [
      "      name  salary       job\n",
      "1      Bob   80000    Doctor\n",
      "2  Charlie   90000    Artist\n",
      "3   Aminul  100000  Engineer\n"
     ]
    }
   ],
   "source": [
    "print(df[df['salary']> 75000])"
   ]
  },
  {
   "cell_type": "code",
   "execution_count": 14,
   "id": "867218a9",
   "metadata": {},
   "outputs": [
    {
     "name": "stdout",
     "output_type": "stream",
     "text": [
      "      name  salary       job\n",
      "3   Aminul  100000  Engineer\n",
      "2  Charlie   90000    Artist\n",
      "1      Bob   80000    Doctor\n",
      "0    Alice   70000  Engineer\n"
     ]
    }
   ],
   "source": [
    "print(df.sort_values('salary', ascending = False))"
   ]
  },
  {
   "cell_type": "markdown",
   "id": "6a2f9d6d",
   "metadata": {},
   "source": [
    "### **🔜 Next: Pandas Lesson 3 – Modifying & Cleaning Data**"
   ]
  },
  {
   "cell_type": "code",
   "execution_count": 15,
   "id": "760b728e",
   "metadata": {},
   "outputs": [],
   "source": [
    "data = {\n",
    "    'name' : ['Alice', 'Bob', 'Charlie', 'Aminul'],\n",
    "    'salary' : [70000, 80000, 90000, 100000],\n",
    "    'job' : ['Engineer', 'Doctor', 'Artist', 'Engineer'],\n",
    "}\n",
    "\n",
    "df = pd.DataFrame(data)"
   ]
  },
  {
   "cell_type": "markdown",
   "id": "330f11e3",
   "metadata": {},
   "source": [
    "#### **🔹 1. Adding a New Column**"
   ]
  },
  {
   "cell_type": "code",
   "execution_count": 16,
   "id": "38ecc170",
   "metadata": {},
   "outputs": [
    {
     "name": "stdout",
     "output_type": "stream",
     "text": [
      "      name  salary       job      tax\n",
      "0    Alice   70000  Engineer  14000.0\n",
      "1      Bob   80000    Doctor  16000.0\n",
      "2  Charlie   90000    Artist  18000.0\n",
      "3   Aminul  100000  Engineer  20000.0\n"
     ]
    }
   ],
   "source": [
    "df['tax'] = df['salary'] * 0.2\n",
    "\n",
    "print(df)"
   ]
  },
  {
   "cell_type": "markdown",
   "id": "c8156059",
   "metadata": {},
   "source": [
    "#### **🔹 2. Modifying Values (e.g. give Engineers a raise)**"
   ]
  },
  {
   "cell_type": "code",
   "execution_count": 17,
   "id": "04713a5c",
   "metadata": {},
   "outputs": [
    {
     "name": "stdout",
     "output_type": "stream",
     "text": [
      "      name  salary       job      tax\n",
      "0    Alice   75000  Engineer  14000.0\n",
      "1      Bob   80000    Doctor  16000.0\n",
      "2  Charlie   90000    Artist  18000.0\n",
      "3   Aminul  105000  Engineer  20000.0\n"
     ]
    }
   ],
   "source": [
    "df.loc[df['job'] == 'Engineer', 'salary'] += 5000\n",
    "print(df)"
   ]
  },
  {
   "cell_type": "markdown",
   "id": "4c573007",
   "metadata": {},
   "source": [
    "#### **🔹 3. Handling Missing Values**"
   ]
  },
  {
   "cell_type": "code",
   "execution_count": 18,
   "id": "618af072",
   "metadata": {},
   "outputs": [
    {
     "name": "stdout",
     "output_type": "stream",
     "text": [
      "    name  salary    job    tax\n",
      "0  False   False  False  False\n",
      "1  False   False   True  False\n",
      "2  False   False  False  False\n",
      "3  False   False  False  False\n"
     ]
    },
    {
     "data": {
      "text/plain": [
       "0    Engineer\n",
       "1     Unknown\n",
       "2      Artist\n",
       "3    Engineer\n",
       "Name: job, dtype: object"
      ]
     },
     "execution_count": 18,
     "metadata": {},
     "output_type": "execute_result"
    }
   ],
   "source": [
    "df.loc[1, 'job'] = None # Remove job for Bob\n",
    "\n",
    "# Check for null values:\n",
    "print(df.isnull())\n",
    "\n",
    "#Fill missing job with \"Unknown\":\n",
    "df['job'].fillna('Unknown')"
   ]
  },
  {
   "cell_type": "markdown",
   "id": "d6e7eee0",
   "metadata": {},
   "source": [
    "#### **🔹 4. Renaming and Dropping Columns**"
   ]
  },
  {
   "cell_type": "code",
   "execution_count": 19,
   "id": "15e18171",
   "metadata": {},
   "outputs": [
    {
     "name": "stdout",
     "output_type": "stream",
     "text": [
      "      name  annual_salary       job\n",
      "0    Alice          75000  Engineer\n",
      "1      Bob          80000      None\n",
      "2  Charlie          90000    Artist\n",
      "3   Aminul         105000  Engineer\n"
     ]
    }
   ],
   "source": [
    "# Rename 'Salary' to 'Annual Salary':\n",
    "df = df.rename(columns={'salary': 'annual_salary'})\n",
    "\n",
    "# Drop the 'tax' column:\n",
    "df = df.drop(columns=['tax'])\n",
    "\n",
    "print(df)"
   ]
  },
  {
   "cell_type": "markdown",
   "id": "b96fa8c3",
   "metadata": {},
   "source": [
    "### **🧪 Exercise**\n",
    "\n",
    "1. Add a new column called bonus = 15% of salary\n",
    "\n",
    "2. Increase salary by 5000 if job is 'Artist'\n",
    "\n",
    "3. Set Aminul’s job to None and fill it with 'Freelancer'\n",
    "\n",
    "4. Rename column name to employee_name\n",
    "\n",
    "5. Drop the bonus column"
   ]
  },
  {
   "cell_type": "code",
   "execution_count": 20,
   "id": "5ff5fcf3",
   "metadata": {},
   "outputs": [
    {
     "name": "stdout",
     "output_type": "stream",
     "text": [
      "  employee_name  annual_salary         job\n",
      "0         Alice          75000    Engineer\n",
      "1           Bob          80000  Freelancer\n",
      "2       Charlie          95000      Artist\n",
      "3        Aminul         105000  Freelancer\n"
     ]
    }
   ],
   "source": [
    "df['bonus'] = df['annual_salary'] * 0.15\n",
    "\n",
    "df.loc[df['job'] == 'Artist', 'annual_salary'] += 5000\n",
    "\n",
    "df.loc[3, 'job'] = None\n",
    "df['job'] = df['job'].fillna('Freelancer')\n",
    "\n",
    "df = df.rename(columns={'name': 'employee_name'})\n",
    "\n",
    "df = df.drop(columns=['bonus'])\n",
    "\n",
    "print(df)\n"
   ]
  },
  {
   "cell_type": "markdown",
   "id": "ec2139ec",
   "metadata": {},
   "source": [
    "### **🔜 Next Topic: Real Dataset Practice (CSV)**"
   ]
  },
  {
   "cell_type": "markdown",
   "id": "7ea1c8db",
   "metadata": {},
   "source": [
    "#### **🔧 Step 1: Get a Sample Dataset**\n",
    "Let’s use a popular one: \"Titanic passengers\" dataset\n",
    "It contains data like age, gender, class, and survival status.\n",
    "\n",
    "🔽 Download it here (or I can help simulate one if needed):\n",
    "Link: https://raw.githubusercontent.com/datasciencedojo/datasets/master/titanic.csv\n",
    "\n",
    "Save it as: titanic.csv"
   ]
  },
  {
   "cell_type": "markdown",
   "id": "b1b7397a",
   "metadata": {},
   "source": [
    "#### **🔹 Step 2: Load the CSV with Pandas**"
   ]
  },
  {
   "cell_type": "code",
   "execution_count": 21,
   "id": "1d16ef74",
   "metadata": {},
   "outputs": [
    {
     "data": {
      "text/html": [
       "<div>\n",
       "<style scoped>\n",
       "    .dataframe tbody tr th:only-of-type {\n",
       "        vertical-align: middle;\n",
       "    }\n",
       "\n",
       "    .dataframe tbody tr th {\n",
       "        vertical-align: top;\n",
       "    }\n",
       "\n",
       "    .dataframe thead th {\n",
       "        text-align: right;\n",
       "    }\n",
       "</style>\n",
       "<table border=\"1\" class=\"dataframe\">\n",
       "  <thead>\n",
       "    <tr style=\"text-align: right;\">\n",
       "      <th></th>\n",
       "      <th>PassengerId</th>\n",
       "      <th>Survived</th>\n",
       "      <th>Pclass</th>\n",
       "      <th>Name</th>\n",
       "      <th>Sex</th>\n",
       "      <th>Age</th>\n",
       "      <th>SibSp</th>\n",
       "      <th>Parch</th>\n",
       "      <th>Ticket</th>\n",
       "      <th>Fare</th>\n",
       "      <th>Cabin</th>\n",
       "      <th>Embarked</th>\n",
       "    </tr>\n",
       "  </thead>\n",
       "  <tbody>\n",
       "    <tr>\n",
       "      <th>0</th>\n",
       "      <td>1</td>\n",
       "      <td>0</td>\n",
       "      <td>3</td>\n",
       "      <td>Braund, Mr. Owen Harris</td>\n",
       "      <td>male</td>\n",
       "      <td>22.0</td>\n",
       "      <td>1</td>\n",
       "      <td>0</td>\n",
       "      <td>A/5 21171</td>\n",
       "      <td>7.2500</td>\n",
       "      <td>NaN</td>\n",
       "      <td>S</td>\n",
       "    </tr>\n",
       "    <tr>\n",
       "      <th>1</th>\n",
       "      <td>2</td>\n",
       "      <td>1</td>\n",
       "      <td>1</td>\n",
       "      <td>Cumings, Mrs. John Bradley (Florence Briggs Th...</td>\n",
       "      <td>female</td>\n",
       "      <td>38.0</td>\n",
       "      <td>1</td>\n",
       "      <td>0</td>\n",
       "      <td>PC 17599</td>\n",
       "      <td>71.2833</td>\n",
       "      <td>C85</td>\n",
       "      <td>C</td>\n",
       "    </tr>\n",
       "    <tr>\n",
       "      <th>2</th>\n",
       "      <td>3</td>\n",
       "      <td>1</td>\n",
       "      <td>3</td>\n",
       "      <td>Heikkinen, Miss. Laina</td>\n",
       "      <td>female</td>\n",
       "      <td>26.0</td>\n",
       "      <td>0</td>\n",
       "      <td>0</td>\n",
       "      <td>STON/O2. 3101282</td>\n",
       "      <td>7.9250</td>\n",
       "      <td>NaN</td>\n",
       "      <td>S</td>\n",
       "    </tr>\n",
       "    <tr>\n",
       "      <th>3</th>\n",
       "      <td>4</td>\n",
       "      <td>1</td>\n",
       "      <td>1</td>\n",
       "      <td>Futrelle, Mrs. Jacques Heath (Lily May Peel)</td>\n",
       "      <td>female</td>\n",
       "      <td>35.0</td>\n",
       "      <td>1</td>\n",
       "      <td>0</td>\n",
       "      <td>113803</td>\n",
       "      <td>53.1000</td>\n",
       "      <td>C123</td>\n",
       "      <td>S</td>\n",
       "    </tr>\n",
       "    <tr>\n",
       "      <th>4</th>\n",
       "      <td>5</td>\n",
       "      <td>0</td>\n",
       "      <td>3</td>\n",
       "      <td>Allen, Mr. William Henry</td>\n",
       "      <td>male</td>\n",
       "      <td>35.0</td>\n",
       "      <td>0</td>\n",
       "      <td>0</td>\n",
       "      <td>373450</td>\n",
       "      <td>8.0500</td>\n",
       "      <td>NaN</td>\n",
       "      <td>S</td>\n",
       "    </tr>\n",
       "  </tbody>\n",
       "</table>\n",
       "</div>"
      ],
      "text/plain": [
       "   PassengerId  Survived  Pclass  \\\n",
       "0            1         0       3   \n",
       "1            2         1       1   \n",
       "2            3         1       3   \n",
       "3            4         1       1   \n",
       "4            5         0       3   \n",
       "\n",
       "                                                Name     Sex   Age  SibSp  \\\n",
       "0                            Braund, Mr. Owen Harris    male  22.0      1   \n",
       "1  Cumings, Mrs. John Bradley (Florence Briggs Th...  female  38.0      1   \n",
       "2                             Heikkinen, Miss. Laina  female  26.0      0   \n",
       "3       Futrelle, Mrs. Jacques Heath (Lily May Peel)  female  35.0      1   \n",
       "4                           Allen, Mr. William Henry    male  35.0      0   \n",
       "\n",
       "   Parch            Ticket     Fare Cabin Embarked  \n",
       "0      0         A/5 21171   7.2500   NaN        S  \n",
       "1      0          PC 17599  71.2833   C85        C  \n",
       "2      0  STON/O2. 3101282   7.9250   NaN        S  \n",
       "3      0            113803  53.1000  C123        S  \n",
       "4      0            373450   8.0500   NaN        S  "
      ]
     },
     "execution_count": 21,
     "metadata": {},
     "output_type": "execute_result"
    }
   ],
   "source": [
    "df = pd.read_csv('titanic.csv')\n",
    "\n",
    "df.head()"
   ]
  },
  {
   "cell_type": "markdown",
   "id": "13e41585",
   "metadata": {},
   "source": [
    "#### **🔹 Step 3: Basic Exploration**"
   ]
  },
  {
   "cell_type": "code",
   "execution_count": 22,
   "id": "2c7793b8",
   "metadata": {},
   "outputs": [
    {
     "name": "stdout",
     "output_type": "stream",
     "text": [
      "(891, 12)\n",
      "Index(['PassengerId', 'Survived', 'Pclass', 'Name', 'Sex', 'Age', 'SibSp',\n",
      "       'Parch', 'Ticket', 'Fare', 'Cabin', 'Embarked'],\n",
      "      dtype='object')\n",
      "Data Types and nulls: \n",
      "\n",
      "<bound method DataFrame.info of      PassengerId  Survived  Pclass  \\\n",
      "0              1         0       3   \n",
      "1              2         1       1   \n",
      "2              3         1       3   \n",
      "3              4         1       1   \n",
      "4              5         0       3   \n",
      "..           ...       ...     ...   \n",
      "886          887         0       2   \n",
      "887          888         1       1   \n",
      "888          889         0       3   \n",
      "889          890         1       1   \n",
      "890          891         0       3   \n",
      "\n",
      "                                                  Name     Sex   Age  SibSp  \\\n",
      "0                              Braund, Mr. Owen Harris    male  22.0      1   \n",
      "1    Cumings, Mrs. John Bradley (Florence Briggs Th...  female  38.0      1   \n",
      "2                               Heikkinen, Miss. Laina  female  26.0      0   \n",
      "3         Futrelle, Mrs. Jacques Heath (Lily May Peel)  female  35.0      1   \n",
      "4                             Allen, Mr. William Henry    male  35.0      0   \n",
      "..                                                 ...     ...   ...    ...   \n",
      "886                              Montvila, Rev. Juozas    male  27.0      0   \n",
      "887                       Graham, Miss. Margaret Edith  female  19.0      0   \n",
      "888           Johnston, Miss. Catherine Helen \"Carrie\"  female   NaN      1   \n",
      "889                              Behr, Mr. Karl Howell    male  26.0      0   \n",
      "890                                Dooley, Mr. Patrick    male  32.0      0   \n",
      "\n",
      "     Parch            Ticket     Fare Cabin Embarked  \n",
      "0        0         A/5 21171   7.2500   NaN        S  \n",
      "1        0          PC 17599  71.2833   C85        C  \n",
      "2        0  STON/O2. 3101282   7.9250   NaN        S  \n",
      "3        0            113803  53.1000  C123        S  \n",
      "4        0            373450   8.0500   NaN        S  \n",
      "..     ...               ...      ...   ...      ...  \n",
      "886      0            211536  13.0000   NaN        S  \n",
      "887      0            112053  30.0000   B42        S  \n",
      "888      2        W./C. 6607  23.4500   NaN        S  \n",
      "889      0            111369  30.0000  C148        C  \n",
      "890      0            370376   7.7500   NaN        Q  \n",
      "\n",
      "[891 rows x 12 columns]>\n",
      "Summary stats for numbers: \n",
      "\n",
      "       PassengerId    Survived      Pclass         Age       SibSp  \\\n",
      "count   891.000000  891.000000  891.000000  714.000000  891.000000   \n",
      "mean    446.000000    0.383838    2.308642   29.699118    0.523008   \n",
      "std     257.353842    0.486592    0.836071   14.526497    1.102743   \n",
      "min       1.000000    0.000000    1.000000    0.420000    0.000000   \n",
      "25%     223.500000    0.000000    2.000000   20.125000    0.000000   \n",
      "50%     446.000000    0.000000    3.000000   28.000000    0.000000   \n",
      "75%     668.500000    1.000000    3.000000   38.000000    1.000000   \n",
      "max     891.000000    1.000000    3.000000   80.000000    8.000000   \n",
      "\n",
      "            Parch        Fare  \n",
      "count  891.000000  891.000000  \n",
      "mean     0.381594   32.204208  \n",
      "std      0.806057   49.693429  \n",
      "min      0.000000    0.000000  \n",
      "25%      0.000000    7.910400  \n",
      "50%      0.000000   14.454200  \n",
      "75%      0.000000   31.000000  \n",
      "max      6.000000  512.329200  \n"
     ]
    }
   ],
   "source": [
    "print(df.shape)       # Row and column count\n",
    "print(df.columns)     # Column names\n",
    "\n",
    "print (\"Data Types and nulls: \\n\")\n",
    "print(df.info)        # Info about the DataFrame\n",
    "print(\"Summary stats for numbers: \\n\")\n",
    "print(df.describe())  # Summary statistics for numeric columns"
   ]
  },
  {
   "cell_type": "markdown",
   "id": "02150408",
   "metadata": {},
   "source": [
    "#### **🔹 Step 4: Practice Questions**\n",
    "Try answering these using Pandas:\n",
    "\n",
    "1. How many passengers are in the dataset?\n",
    "\n",
    "2. How many survived?\n",
    "\n",
    "3. What's the average age?\n",
    "\n",
    "4. How many children (age < 12) were there?\n",
    "\n",
    "5. What percentage of passengers were male?"
   ]
  },
  {
   "cell_type": "code",
   "execution_count": 23,
   "id": "51a6f42b",
   "metadata": {},
   "outputs": [
    {
     "name": "stdout",
     "output_type": "stream",
     "text": [
      "Total passengers: 891\n",
      "Total survived: 342\n",
      "Average age: 29.7\n",
      "Number of children (age < 12): 68\n",
      "Percentage of male passengers: 64.76%\n"
     ]
    }
   ],
   "source": [
    "# 1. Total passengers\n",
    "passenger = df['PassengerId'].count()\n",
    "print(\"Total passengers:\", passenger)\n",
    "\n",
    "# 2. Total survived\n",
    "survived = df['Survived'].sum()\n",
    "print(\"Total survived:\", survived)\n",
    "\n",
    "# 3. Average age\n",
    "avg_age = df['Age'].mean()\n",
    "print(\"Average age:\", round(avg_age, 2))\n",
    "\n",
    "# 4. Number of children\n",
    "children = (df['Age'] < 12).sum()\n",
    "print(\"Number of children (age < 12):\", children)\n",
    "\n",
    "# 5. Percentage of male passengers\n",
    "male_percentage = (df['Sex'] == 'male').mean() * 100\n",
    "print(f\"Percentage of male passengers: {male_percentage:.2f}%\")\n"
   ]
  }
 ],
 "metadata": {
  "kernelspec": {
   "display_name": "butterfly",
   "language": "python",
   "name": "python3"
  },
  "language_info": {
   "codemirror_mode": {
    "name": "ipython",
    "version": 3
   },
   "file_extension": ".py",
   "mimetype": "text/x-python",
   "name": "python",
   "nbconvert_exporter": "python",
   "pygments_lexer": "ipython3",
   "version": "3.12.9"
  }
 },
 "nbformat": 4,
 "nbformat_minor": 5
}
