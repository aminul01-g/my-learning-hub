{
 "cells": [
  {
   "cell_type": "markdown",
   "id": "a9614fa8",
   "metadata": {},
   "source": [
    "## 📘 Lesson 1: NumPy Basics"
   ]
  },
  {
   "cell_type": "code",
   "execution_count": 1,
   "id": "2b3f265d",
   "metadata": {},
   "outputs": [
    {
     "name": "stdout",
     "output_type": "stream",
     "text": [
      "Requirement already satisfied: numpy in /home/aminul/anaconda3/envs/butterfly/lib/python3.12/site-packages (2.0.1)\n",
      "Note: you may need to restart the kernel to use updated packages.\n"
     ]
    }
   ],
   "source": [
    "pip install numpy"
   ]
  },
  {
   "cell_type": "code",
   "execution_count": 3,
   "id": "eecaacaf",
   "metadata": {},
   "outputs": [
    {
     "name": "stdout",
     "output_type": "stream",
     "text": [
      "(5,)\n",
      "(2, 2)\n",
      "int64\n",
      "[3 4 5 6 7]\n",
      "[ 3  6  9 12 15]\n",
      "55\n"
     ]
    }
   ],
   "source": [
    "import numpy as np\n",
    "\n",
    "#Create array\n",
    "a = np.array([1,2,3,4,5 ])\n",
    "b = np.array([[1,2],[3,4]])\n",
    "\n",
    "# Shape and type\n",
    "\n",
    "print(a.shape)\n",
    "print(b.shape)\n",
    "print(b.dtype)\n",
    "\n",
    "#Basic operations\n",
    "\n",
    "print(a + 2) #[3,4,5]\n",
    "print(a * 3) #[3,6,9]\n",
    "print(a @ a) # Dot product"
   ]
  },
  {
   "cell_type": "markdown",
   "id": "487ccf18",
   "metadata": {},
   "source": [
    "### ✅ NumPy Practice Exercise"
   ]
  },
  {
   "cell_type": "markdown",
   "id": "00d4c987",
   "metadata": {},
   "source": [
    "1. Create a 3×3 matrix with values from 1 to 9\n",
    "2. Get the mean of each row\n",
    "3. Multiply the matrix by a scalar\n",
    "4. Transpose the matrix"
   ]
  },
  {
   "cell_type": "code",
   "execution_count": null,
   "id": "fedf0c07",
   "metadata": {},
   "outputs": [
    {
     "name": "stdout",
     "output_type": "stream",
     "text": [
      "Row-wise mean: [2. 5. 8.]\n",
      "Matrix * 2:\n",
      " [[ 2  4  6]\n",
      " [ 8 10 12]\n",
      " [14 16 18]]\n",
      "Transposed matrix:\n",
      " [[1 4 7]\n",
      " [2 5 8]\n",
      " [3 6 9]]\n"
     ]
    }
   ],
   "source": [
    "c = np.array([\n",
    "    [1,2,3],\n",
    "    [4,5,6],\n",
    "    [7,8,9]])\n",
    "\n",
    "# Mean of each row\n",
    "print(\"Row-wise mean:\", c.mean(axis=1))\n",
    "\n",
    "# Multiply the matrix by a scalar\n",
    "print(\"Matrix * 2:\\n\", c * 2)\n",
    "\n",
    "# Transpose the matrix\n",
    "print(\"Transposed matrix:\\n\", c.T)"
   ]
  },
  {
   "cell_type": "markdown",
   "id": "6e6c6e4a",
   "metadata": {},
   "source": [
    "## 🧠 Lesson: Indexing, Slicing & Reshaping in NumPy"
   ]
  },
  {
   "cell_type": "markdown",
   "id": "4ba930ba",
   "metadata": {},
   "source": [
    "#### **1. Indexing**"
   ]
  },
  {
   "cell_type": "code",
   "execution_count": 10,
   "id": "6da6225d",
   "metadata": {},
   "outputs": [
    {
     "name": "stdout",
     "output_type": "stream",
     "text": [
      "20\n",
      "90\n"
     ]
    }
   ],
   "source": [
    "import numpy as np\n",
    "\n",
    "a = np.array([\n",
    "    [10, 20, 30],\n",
    "    [40, 50, 60],\n",
    "    [70, 80, 90]\n",
    "\n",
    "])\n",
    "\n",
    "print(a[0, 1]) # Accessing element at row 0, column 1\n",
    "print(a[2,2]) # 90"
   ]
  },
  {
   "cell_type": "markdown",
   "id": "cf4df6ee",
   "metadata": {},
   "source": [
    "#### **2. Slicing**"
   ]
  },
  {
   "cell_type": "code",
   "execution_count": 11,
   "id": "a0a448fd",
   "metadata": {},
   "outputs": [
    {
     "name": "stdout",
     "output_type": "stream",
     "text": [
      "[[10 20 30]\n",
      " [40 50 60]]\n",
      "[30 60 90]\n"
     ]
    }
   ],
   "source": [
    "# Get the first two row\n",
    "print(a[:2, :]) # [[10,20,30],[40,50,60]]\n",
    "\n",
    "# Get the last column\n",
    "print(a[:, -1]) # [30,60,90]"
   ]
  },
  {
   "cell_type": "markdown",
   "id": "158ee596",
   "metadata": {},
   "source": [
    "#### **3. Boolean Masking (Very powerful for filtering)**"
   ]
  },
  {
   "cell_type": "code",
   "execution_count": 13,
   "id": "d267867e",
   "metadata": {},
   "outputs": [
    {
     "name": "stdout",
     "output_type": "stream",
     "text": [
      "[[False False False]\n",
      " [False False  True]\n",
      " [ True  True  True]]\n",
      "[60 70 80 90]\n"
     ]
    }
   ],
   "source": [
    "# Find elements > 50\n",
    "print ( a > 50) # [[False,False,False],[False,True,True],[True,True,True]]\n",
    "\n",
    "#Use the mask to extract values\n",
    "print(a[a > 50])"
   ]
  },
  {
   "cell_type": "markdown",
   "id": "6e81074e",
   "metadata": {},
   "source": [
    "#### **4. Reshaping**"
   ]
  },
  {
   "cell_type": "code",
   "execution_count": 15,
   "id": "701193f5",
   "metadata": {},
   "outputs": [
    {
     "name": "stdout",
     "output_type": "stream",
     "text": [
      "[[1 2 3]\n",
      " [4 5 6]]\n",
      "[10 20 30 40 50 60 70 80 90]\n"
     ]
    }
   ],
   "source": [
    "b = np.array([1,2,3,4,5,6])\n",
    "print(b.reshape(2,3)) # 2 rows, 3 columns\n",
    "\n",
    "# Flatten a matrix back to 1D\n",
    "c = a.flatten()\n",
    "print(c) # [10,20,30,40,50,60,70,80,90]"
   ]
  },
  {
   "cell_type": "markdown",
   "id": "e87c13d6",
   "metadata": {},
   "source": [
    "##### 🧪 **Practice Exercise (Try These!):**\n",
    "1. Create a 4×3 array of numbers from 1 to 12.\n",
    "\n",
    "2. Extract the second column.\n",
    "\n",
    "3. Get a submatrix of the last two rows and first two columns.\n",
    "\n",
    "4. Filter all values greater than 6.\n",
    "\n",
    "5. Reshape it to a 2×6 matrix and then back to 3×4."
   ]
  },
  {
   "cell_type": "code",
   "execution_count": null,
   "id": "13b3a7f2",
   "metadata": {},
   "outputs": [
    {
     "name": "stdout",
     "output_type": "stream",
     "text": [
      "[ 2  6 10]\n",
      "[[ 5  6]\n",
      " [ 9 10]]\n",
      "[ 7  8  9 10 11 12]\n",
      "[[ 1  2  3  4  5  6]\n",
      " [ 7  8  9 10 11 12]]\n"
     ]
    }
   ],
   "source": [
    "# Create a 4×3 array of numbers from 1 to 12.\n",
    "\n",
    "a = np.arange(1, 13).reshape(4, 3)\n",
    "# or\n",
    "a = np.array([\n",
    "    [1, 2, 3],\n",
    "    [4, 5, 6],\n",
    "    [7, 8, 9],\n",
    "    [10,11,12]\n",
    "])\n",
    "# Extract the second column.\n",
    "\n",
    "print(a[:,1])\n",
    "\n",
    "# Get a submatrix of the last two rows and first two columns.\n",
    "print(a[-2:, :2])\n",
    "\n",
    "# Filter all values greater than 6.\n",
    "print(a[a > 6])\n",
    "\n",
    "# Reshape it to a 2×6 matrix and then back to 3×4.\n",
    "\n",
    "print(a.reshape(2,6))"
   ]
  },
  {
   "cell_type": "code",
   "execution_count": null,
   "id": "21fabb86",
   "metadata": {},
   "outputs": [],
   "source": []
  }
 ],
 "metadata": {
  "kernelspec": {
   "display_name": "butterfly",
   "language": "python",
   "name": "python3"
  },
  "language_info": {
   "codemirror_mode": {
    "name": "ipython",
    "version": 3
   },
   "file_extension": ".py",
   "mimetype": "text/x-python",
   "name": "python",
   "nbconvert_exporter": "python",
   "pygments_lexer": "ipython3",
   "version": "3.12.9"
  }
 },
 "nbformat": 4,
 "nbformat_minor": 5
}
