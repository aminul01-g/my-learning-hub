{
 "cells": [
  {
   "cell_type": "markdown",
   "id": "3c705b5a",
   "metadata": {},
   "source": [
    "> Print “hello world” from a variable."
   ]
  },
  {
   "cell_type": "code",
   "execution_count": null,
   "id": "7e5cd929",
   "metadata": {},
   "outputs": [],
   "source": [
    "A=\"hello world\"\n",
    "print(A)"
   ]
  },
  {
   "cell_type": "markdown",
   "id": "52a74c24",
   "metadata": {},
   "source": [
    "> Input your name in a variable and print “Hello [your name]”"
   ]
  },
  {
   "cell_type": "code",
   "execution_count": 1,
   "id": "c6944ae9",
   "metadata": {},
   "outputs": [
    {
     "name": "stdout",
     "output_type": "stream",
     "text": [
      "hello \n"
     ]
    }
   ],
   "source": [
    "A=input(\"enter your name : \")\n",
    "print(\"hello\",A)"
   ]
  },
  {
   "cell_type": "markdown",
   "id": "c4d6c213",
   "metadata": {},
   "source": [
    "> Given two integer numbers X and Y. Print the summation and multiplication and subtraction and division of these 2 numbers."
   ]
  },
  {
   "cell_type": "code",
   "execution_count": 2,
   "id": "930a9246",
   "metadata": {},
   "outputs": [
    {
     "name": "stdout",
     "output_type": "stream",
     "text": [
      "summation :  30\n",
      "multiplication :  200\n",
      "subtraction :  -10\n",
      "division :  0.5\n"
     ]
    }
   ],
   "source": [
    "A=(int)(input(\"enter number : \"))\n",
    "B=(int)(input(\"enter another number : \"))\n",
    "print(\"summation : \",A+B)\n",
    "print(\"multiplication : \",A*B)\n",
    "print(\"subtraction : \",A-B)\n",
    "print(\"division : \",A/B)"
   ]
  },
  {
   "cell_type": "markdown",
   "id": "fb7a6ed2",
   "metadata": {},
   "source": [
    "> Given two float numbers X and Y. Print the summation and multiplication and subtraction and division of these 2 numbers."
   ]
  },
  {
   "cell_type": "code",
   "execution_count": 3,
   "id": "d9e97a6b",
   "metadata": {},
   "outputs": [
    {
     "name": "stdout",
     "output_type": "stream",
     "text": [
      "summation :  70.0\n",
      "multiplication :  1200.0\n",
      "subtraction :  -10.0\n",
      "division :  0.75\n"
     ]
    }
   ],
   "source": [
    "A=(float)(input(\"enter number : \"))\n",
    "B=(float)(input(\"enter another number : \"))\n",
    "print(\"summation : \",A+B)\n",
    "print(\"multiplication : \",A*B)\n",
    "print(\"subtraction : \",A-B)\n",
    "print(\"division : \",A/B)"
   ]
  },
  {
   "cell_type": "markdown",
   "id": "9bd2097c",
   "metadata": {},
   "source": [
    "> Given four numbers A, B, C and D. Print the result of the following equation : X = (A * B) - (C * D). Print \"Difference = \" without quotes followed by the equation result."
   ]
  },
  {
   "cell_type": "code",
   "execution_count": 4,
   "id": "3315da94",
   "metadata": {},
   "outputs": [
    {
     "name": "stdout",
     "output_type": "stream",
     "text": [
      "Difference 500\n"
     ]
    }
   ],
   "source": [
    "A=(int)(input(\"enter 1st number : \"))\n",
    "B=(int)(input(\"enter 2nd number : \"))\n",
    "C=(int)(input(\"enter 3rd number : \"))\n",
    "D=(int)(input(\"enter 4th number : \"))\n",
    "X = (A * B) - (C * D)\n",
    "print(\"Difference\",X)"
   ]
  },
  {
   "cell_type": "markdown",
   "id": "904ec45f",
   "metadata": {},
   "source": [
    "> Given two numbers N and M. Print the summation of their last digits."
   ]
  },
  {
   "cell_type": "code",
   "execution_count": 5,
   "id": "43f0c596",
   "metadata": {},
   "outputs": [
    {
     "name": "stdout",
     "output_type": "stream",
     "text": [
      "The Summation of Last Number :  0\n"
     ]
    }
   ],
   "source": [
    "A=(int)(input(\"enter the number : \"))\n",
    "B=(int)(input(\"enter the number : \"))\n",
    "print(\"The Summation of Last Number : \",(A%10)+(B%10))"
   ]
  },
  {
   "cell_type": "markdown",
   "id": "f4419a44",
   "metadata": {},
   "source": [
    "> Given a Number N corresponding to a person's age (in days). Print his age in years, months and days, followed by its respective message \"years\", \"months\",\"days\".\n",
    "Note: consider the whole year has 365 days and 30 days per month."
   ]
  },
  {
   "cell_type": "code",
   "execution_count": 6,
   "id": "8f94b68f",
   "metadata": {},
   "outputs": [
    {
     "name": "stdout",
     "output_type": "stream",
     "text": [
      "0 years, 1 months, 0 days\n"
     ]
    }
   ],
   "source": [
    "Y=(int)(input(\"Enter person's age (in days): \"))\n",
    "print(Y//365,\"years,\",(Y%365)//30,\"months,\",(Y%365)%30,\"days\")"
   ]
  },
  {
   "cell_type": "markdown",
   "id": "ef7b6648",
   "metadata": {},
   "source": [
    "> Calculate an Average of 5 integer variables."
   ]
  },
  {
   "cell_type": "code",
   "execution_count": 7,
   "id": "bbfa447c",
   "metadata": {},
   "outputs": [
    {
     "name": "stdout",
     "output_type": "stream",
     "text": [
      "enter 5 numbers : \n",
      "Average :  84.0\n"
     ]
    }
   ],
   "source": [
    "print(\"enter 5 numbers : \")\n",
    "A= (int) (input())\n",
    "B= (int)(input())\n",
    "C= (int)(input())\n",
    "D= (int)(input())\n",
    "E= (int)(input())\n",
    "print(\"Average : \",(A+B+C+D+E)/5)"
   ]
  },
  {
   "cell_type": "markdown",
   "id": "d68ac0a6",
   "metadata": {},
   "source": [
    "> Given a number R calculate the area of a circle using the following formula:\n",
    "Area = π * R2.\n",
    "Note: consider π = 3.141592653."
   ]
  },
  {
   "cell_type": "code",
   "execution_count": null,
   "id": "b569742a",
   "metadata": {},
   "outputs": [],
   "source": [
    "R=(int)(input(\"Enter the value of R : \"))\n",
    "pi=3.1416\n",
    "print(\"Area : \",pi*R*R)"
   ]
  },
  {
   "cell_type": "markdown",
   "id": "7e01c189",
   "metadata": {},
   "source": [
    "> Print the first digit of a 6 digits number. Ex: x=103457, [First digit is 1]"
   ]
  },
  {
   "cell_type": "code",
   "execution_count": null,
   "id": "bc9bb3f6",
   "metadata": {},
   "outputs": [],
   "source": [
    "x=(int)(input(\"Enter 6 digits number: \"))\n",
    "print(\"First digit is : \",x//100000)"
   ]
  },
  {
   "cell_type": "markdown",
   "id": "558eea1d",
   "metadata": {},
   "source": [
    "**Control Structures**\n",
    "\n",
    "\n",
    "1.   Conditional Statements (if, elif, else)\n",
    "2.   Boolean Logic"
   ]
  },
  {
   "cell_type": "markdown",
   "id": "18baf73a",
   "metadata": {},
   "source": [
    "> Check if a number is even or odd\n",
    "\n",
    " % calculates the remainder.\n",
    "If the remainder when dividing by 2 is 0, the number is even. Else, it's odd."
   ]
  },
  {
   "cell_type": "code",
   "execution_count": 8,
   "id": "bfe7e570",
   "metadata": {},
   "outputs": [
    {
     "name": "stdout",
     "output_type": "stream",
     "text": [
      "The number is even.\n"
     ]
    }
   ],
   "source": [
    "number = int(input(\"Enter a number: \"))\n",
    "if number % 2 == 0:\n",
    "    print(\"The number is even.\")\n",
    "else:\n",
    "    print(\"The number is odd.\")"
   ]
  },
  {
   "cell_type": "markdown",
   "id": "4a0717c2",
   "metadata": {},
   "source": [
    "> Determine grades based on marks"
   ]
  },
  {
   "cell_type": "code",
   "execution_count": null,
   "id": "2870a474",
   "metadata": {},
   "outputs": [],
   "source": [
    "marks = int(input(\"Enter your marks: \"))\n",
    "if marks >= 90:\n",
    "    print(\"Grade: A\")\n",
    "elif marks >= 80:\n",
    "    print(\"Grade: B\")\n",
    "elif marks >= 70:\n",
    "    print(\"Grade: C\")\n",
    "else:\n",
    "    print(\"Grade: F\")"
   ]
  },
  {
   "cell_type": "markdown",
   "id": "cd1e7fb9",
   "metadata": {},
   "source": [
    ">  Nested conditions"
   ]
  },
  {
   "cell_type": "code",
   "execution_count": null,
   "id": "54ef42bc",
   "metadata": {},
   "outputs": [],
   "source": [
    "age = int(input(\"Enter your age: \"))\n",
    "if age >= 18:\n",
    "    if age >= 60:\n",
    "        print('Senior citizen')\n",
    "    else:\n",
    "        print(\"Adult.\")\n",
    "else:\n",
    "    print(\"Minor.\")"
   ]
  },
  {
   "cell_type": "markdown",
   "id": "7a204dfc",
   "metadata": {},
   "source": [
    "> Check if a number is positive, negative or zero"
   ]
  },
  {
   "cell_type": "code",
   "execution_count": null,
   "id": "b51a1e9f",
   "metadata": {},
   "outputs": [],
   "source": [
    "number = int(input(\"Enter a number: \"))\n",
    "if number > 0:\n",
    "    print(\"Positive number.\")\n",
    "elif number < 0:\n",
    "    print(\"Negative number.\")\n",
    "else:\n",
    "    print(\"Zero.\")"
   ]
  },
  {
   "cell_type": "markdown",
   "id": "3d7759ab",
   "metadata": {},
   "source": [
    "> Build Simple login system"
   ]
  },
  {
   "cell_type": "code",
   "execution_count": null,
   "id": "a789260a",
   "metadata": {},
   "outputs": [],
   "source": [
    "username = input(\"Enter username: \")\n",
    "password = input(\"Enter password: \")\n",
    "\n",
    "if username == \"admin\" and password == \"12345\":\n",
    "    print(\"Login successful!\")\n",
    "else:\n",
    "    print(\"Invalid credentials.\")"
   ]
  },
  {
   "cell_type": "markdown",
   "id": "7d341c75",
   "metadata": {},
   "source": [
    "**Boolean Logic**\n",
    "\n",
    "> Logical AND"
   ]
  },
  {
   "cell_type": "code",
   "execution_count": null,
   "id": "9b564052",
   "metadata": {},
   "outputs": [],
   "source": [
    "age = 25\n",
    "citizen = True\n",
    "\n",
    "if age >= 18 and citizen:\n",
    "    print(\"Eligible to vote.\")\n",
    "else:\n",
    "    print(\"Not eligible to vote.\")"
   ]
  },
  {
   "cell_type": "markdown",
   "id": "1a6b4ee1",
   "metadata": {},
   "source": [
    "> Logical OR"
   ]
  },
  {
   "cell_type": "code",
   "execution_count": null,
   "id": "0a5823a9",
   "metadata": {},
   "outputs": [],
   "source": [
    "day = \"Saturday\"\n",
    "if day == \"Saturday\" or day == \"Sunday\":\n",
    "    print(\"It's the weekend!\")\n",
    "else:\n",
    "    print(\"It's a weekday.\")"
   ]
  },
  {
   "cell_type": "markdown",
   "id": "2c5d2fda",
   "metadata": {},
   "source": [
    "> **Logical NOT**\n",
    "\n",
    "not negates the value of is_raining."
   ]
  },
  {
   "cell_type": "code",
   "execution_count": null,
   "id": "7c497bcb",
   "metadata": {},
   "outputs": [],
   "source": [
    "is_raining = False\n",
    "\n",
    "if not is_raining:\n",
    "    print(\"You can go for a walk!\")\n",
    "else:\n",
    "    print(\"Stay indoors!\")"
   ]
  },
  {
   "cell_type": "markdown",
   "id": "3991eb96",
   "metadata": {},
   "source": [
    "> Combines *and* and *not* to check multiple conditions."
   ]
  },
  {
   "cell_type": "code",
   "execution_count": null,
   "id": "9566fda5",
   "metadata": {},
   "outputs": [],
   "source": [
    "temperature = 25\n",
    "is_raining = False\n",
    "\n",
    "if temperature > 20 and not is_raining:\n",
    "    print(\"Perfect weather for a picnic.\")\n",
    "else:\n",
    "    print(\"Stay indoors.\")"
   ]
  },
  {
   "cell_type": "markdown",
   "id": "0b3ff191",
   "metadata": {},
   "source": [
    "**Complex condition**\n",
    "\n",
    "The or operator makes the student eligible if either condition is true."
   ]
  },
  {
   "cell_type": "code",
   "execution_count": null,
   "id": "913f6f4c",
   "metadata": {},
   "outputs": [],
   "source": [
    "marks = 85\n",
    "attendance = 90\n",
    "\n",
    "if marks >= 80 or attendance > 85:\n",
    "    print(\"Eligible for award.\")\n",
    "else:\n",
    "    print(\"Not eligible for award.\")"
   ]
  },
  {
   "cell_type": "markdown",
   "id": "0543d7f9",
   "metadata": {},
   "source": [
    "### **Loops**\n",
    "\n",
    "> For Loops\n",
    "Example 1: Print numbers from 1 to 10"
   ]
  },
  {
   "cell_type": "code",
   "execution_count": null,
   "id": "d992fb6a",
   "metadata": {},
   "outputs": [],
   "source": [
    "for i in range(1, 11):\n",
    "    print(i)"
   ]
  },
  {
   "cell_type": "markdown",
   "id": "b6ce7020",
   "metadata": {},
   "source": [
    "> Iterate through a list"
   ]
  },
  {
   "cell_type": "code",
   "execution_count": null,
   "id": "d7983653",
   "metadata": {},
   "outputs": [],
   "source": [
    "fruits = [\"apple\", \"banana\", \"cherry\"]\n",
    "\n",
    "for fruit in fruits:\n",
    "    print(f\"I like {fruit}.\")"
   ]
  },
  {
   "cell_type": "markdown",
   "id": "b89cd171",
   "metadata": {},
   "source": [
    "> Find the sum of numbers in a list"
   ]
  },
  {
   "cell_type": "code",
   "execution_count": null,
   "id": "6641636b",
   "metadata": {},
   "outputs": [],
   "source": [
    "numbers = [10, 20, 30, 40, 50]\n",
    "total = 0\n",
    "\n",
    "for num in numbers:\n",
    "    total += num\n",
    "\n",
    "print(f\"Total sum: {total}\")"
   ]
  },
  {
   "cell_type": "markdown",
   "id": "c49738c5",
   "metadata": {},
   "source": [
    " ### **Nested loops**\n",
    "\n",
    " > The outer loop runs 3 times, and the inner loop runs 3 times for each outer loop iteration."
   ]
  },
  {
   "cell_type": "code",
   "execution_count": null,
   "id": "bf01630a",
   "metadata": {},
   "outputs": [],
   "source": [
    "for i in range(1, 4):\n",
    "    for j in range(1, 4):\n",
    "        print(f\"i={i}, j={j}\")"
   ]
  },
  {
   "cell_type": "markdown",
   "id": "d8d567d3",
   "metadata": {},
   "source": [
    "> Print multiplication table\n",
    "\n",
    "> Multiplies the input number with values from 1 to 10."
   ]
  },
  {
   "cell_type": "code",
   "execution_count": null,
   "id": "ba2eea14",
   "metadata": {},
   "outputs": [],
   "source": [
    "number = int(input(\"Enter a number: \"))\n",
    "for i in range(1, 11):\n",
    "    print(f\"{number} x {i} = {number * i}\")"
   ]
  },
  {
   "cell_type": "markdown",
   "id": "9d07b321",
   "metadata": {},
   "source": [
    "### **While Loops**\n",
    "\n",
    "> Print numbers from 1 to 5"
   ]
  },
  {
   "cell_type": "code",
   "execution_count": null,
   "id": "3635e3e5",
   "metadata": {},
   "outputs": [],
   "source": [
    "count = 1\n",
    "while count <= 5:\n",
    "    print(count)\n",
    "    count += 1"
   ]
  },
  {
   "cell_type": "markdown",
   "id": "8770525e",
   "metadata": {},
   "source": [
    "> Find the sum of digits of a number"
   ]
  },
  {
   "cell_type": "code",
   "execution_count": null,
   "id": "57175d83",
   "metadata": {},
   "outputs": [],
   "source": [
    "number = int(input(\"Enter a number: \"))\n",
    "total = 0\n",
    "\n",
    "while number > 0:\n",
    "    total += number % 10\n",
    "    number //= 10\n",
    "\n",
    "print(f\"Sum of digits: {total}\")"
   ]
  },
  {
   "cell_type": "markdown",
   "id": "e77479cb",
   "metadata": {},
   "source": [
    "**Reverse a number**\n",
    "\n",
    ">Builds the reversed number digit by digit"
   ]
  },
  {
   "cell_type": "code",
   "execution_count": null,
   "id": "ca8359b5",
   "metadata": {},
   "outputs": [],
   "source": [
    "number = int(input(\"Enter a number: \"))\n",
    "reverse = 0\n",
    "\n",
    "while number > 0:\n",
    "    reverse = reverse * 10 + number % 10\n",
    "    number //= 10\n",
    "\n",
    "print(f\"Reversed number: {reverse}\")"
   ]
  },
  {
   "cell_type": "markdown",
   "id": "cfaae6d6",
   "metadata": {},
   "source": [
    ">  Infinite loop with a break condition"
   ]
  },
  {
   "cell_type": "code",
   "execution_count": null,
   "id": "b1657cab",
   "metadata": {},
   "outputs": [],
   "source": [
    "while True:\n",
    "    user_input = input(\"Enter 'exit' to quit: \")\n",
    "    if user_input == \"exit\":\n",
    "        print(\"Exiting the loop.\")\n",
    "        break"
   ]
  },
  {
   "cell_type": "markdown",
   "id": "3b9ccbff",
   "metadata": {},
   "source": [
    "> Count vowels in a string\n",
    "\n",
    "Iterates through each character and checks if it is a vowel."
   ]
  },
  {
   "cell_type": "code",
   "execution_count": null,
   "id": "25164fe9",
   "metadata": {},
   "outputs": [],
   "source": [
    "text = input(\"Enter a string: \")\n",
    "vowels = \"aeiou\"\n",
    "count = 0\n",
    "i = 0\n",
    "\n",
    "while i < len(text):\n",
    "    if text[i].lower() in vowels:\n",
    "        count += 1\n",
    "    i += 1\n",
    "\n",
    "print(f\"Number of vowels: {count}\")"
   ]
  },
  {
   "cell_type": "markdown",
   "id": "7bc7eae8",
   "metadata": {},
   "source": [
    "> Loop Control Statements\n",
    "Example 1: Break in a loop"
   ]
  },
  {
   "cell_type": "code",
   "execution_count": null,
   "id": "a3ea41c0",
   "metadata": {},
   "outputs": [],
   "source": [
    "for i in range(1, 10):\n",
    "    if i == 5:\n",
    "        break\n",
    "    print(i)"
   ]
  },
  {
   "cell_type": "markdown",
   "id": "9afd4f4a",
   "metadata": {},
   "source": [
    "> Continue in a loop"
   ]
  },
  {
   "cell_type": "code",
   "execution_count": null,
   "id": "db54e93f",
   "metadata": {},
   "outputs": [],
   "source": [
    "for i in range(1, 10):\n",
    "    if i % 2 == 0:\n",
    "        continue\n",
    "    print(i)"
   ]
  },
  {
   "cell_type": "markdown",
   "id": "8887bf0e",
   "metadata": {},
   "source": [
    "> Loop with an else block"
   ]
  },
  {
   "cell_type": "code",
   "execution_count": null,
   "id": "651c4514",
   "metadata": {},
   "outputs": [],
   "source": [
    "for i in range(1, 5):\n",
    "    print(i)\n",
    "else:\n",
    "    print(\"Loop completed.\")"
   ]
  },
  {
   "cell_type": "markdown",
   "id": "1367f812",
   "metadata": {},
   "source": [
    "### **Function**"
   ]
  },
  {
   "cell_type": "markdown",
   "id": "e7c70868",
   "metadata": {},
   "source": [
    ">  Write a Python function even_odd(n) that takes an integer n as input and prints \"Even\" if the number is even and \"Odd\" if the number is odd."
   ]
  },
  {
   "cell_type": "code",
   "execution_count": null,
   "id": "cae95529",
   "metadata": {},
   "outputs": [],
   "source": [
    "def even_odd(n):\n",
    "    if n % 2 == 0:\n",
    "        print(\"Even\")\n",
    "    else:\n",
    "        print(\"Odd\")\n",
    "\n",
    "even_odd(24)\n",
    "even_odd(71)"
   ]
  },
  {
   "cell_type": "markdown",
   "id": "1f79c55c",
   "metadata": {},
   "source": [
    "> Write a function divideOnly(n) that prints numbers from 1 to n with special labels:\n",
    "\"divide by 3 or 5\" for numbers divisible by both 3 and 5.\n",
    "\"divide by 3\" for numbers divisible by 3 only.\n",
    "\"divide by 5\" for numbers divisible by 5 only.\n",
    "Otherwise, print the number.\n",
    "What is the output of divideOnly(10)?"
   ]
  },
  {
   "cell_type": "code",
   "execution_count": null,
   "id": "c902f947",
   "metadata": {},
   "outputs": [],
   "source": [
    "def divideOnly(n):\n",
    "    for i in range(1, n + 1):\n",
    "        if i % 3 == 0 and i % 5 == 0:\n",
    "            print(\"divide by 3 or 5\")\n",
    "        elif i % 3 == 0:\n",
    "            print(\"divide by 3\")\n",
    "        elif i % 5 == 0:\n",
    "            print(\"divide by 5\")\n",
    "        else:\n",
    "            print(i)\n",
    "\n",
    "divideOnly(10)"
   ]
  },
  {
   "cell_type": "markdown",
   "id": "7f5af92c",
   "metadata": {},
   "source": [
    "> Write a recursive function factorial(n) that calculates the factorial of a number n."
   ]
  },
  {
   "cell_type": "code",
   "execution_count": null,
   "id": "9a10ffc2",
   "metadata": {},
   "outputs": [],
   "source": [
    "def factorial(n):\n",
    "    if n == 1:\n",
    "        return 1\n",
    "    else:\n",
    "        result = n  * factorial(n - 1)\n",
    "    return result\n",
    "\n",
    "print(factorial(5))"
   ]
  },
  {
   "cell_type": "markdown",
   "id": "9776c307",
   "metadata": {},
   "source": [
    "> Write a Python function number_pattern() that prints a right-angled triangle pattern of asterisks (*) based on the number of rows. Each row contains one more asterisk than the previous row."
   ]
  },
  {
   "cell_type": "code",
   "execution_count": null,
   "id": "88e226ef",
   "metadata": {},
   "outputs": [],
   "source": [
    "def number_pattern(rows):\n",
    "    for i in range(1, rows + 1):\n",
    "        for j in range(1, i + 1):\n",
    "            print('*', end=\" \")\n",
    "        print()\n",
    "\n",
    "number_pattern(5)"
   ]
  },
  {
   "cell_type": "markdown",
   "id": "0e305714",
   "metadata": {},
   "source": [
    "> Write a Python function number_pattern(rows) that prints an inverted right-angled triangle pattern of asterisks (*). The number of asterisks starts with rows in the first row and decreases by one in each subsequent row."
   ]
  },
  {
   "cell_type": "code",
   "execution_count": null,
   "id": "a8c2d0fc",
   "metadata": {},
   "outputs": [],
   "source": [
    "def number_pattern(rows):\n",
    "    for i in range(rows, 0, -1):\n",
    "        for j in range(1, i + 1):\n",
    "            print('*', end=\" \")\n",
    "        print()\n",
    "\n",
    "number_pattern(5)"
   ]
  },
  {
   "cell_type": "markdown",
   "id": "8133485a",
   "metadata": {},
   "source": [
    "> Write a Python function grade_calculator() that calculates grades based on the given score:\n",
    "\"A+\" for scores 80 and above.\n",
    "\"A\" for scores 70–79.\n",
    "\"A-\" for scores 60–69.\n",
    "\"B\" for scores 50–59.\n",
    "\"C\" for scores 40–49.\n",
    "\"D\" for scores 33–39.\n",
    "\"F\" for scores below 33.\n",
    "Return \"Invalid score\" for inputs below 0 or above 100."
   ]
  },
  {
   "cell_type": "code",
   "execution_count": null,
   "id": "ac3dfb23",
   "metadata": {},
   "outputs": [],
   "source": [
    "def grade_calculator(score):\n",
    "    if score < 0 or score > 100:\n",
    "        return \"Invalid score\"\n",
    "    elif score >= 80:\n",
    "        return \"A+\"\n",
    "    elif score >= 70:\n",
    "        return \"A\"\n",
    "    elif score >= 60:\n",
    "        return \"A-\"\n",
    "    elif score >= 50:\n",
    "        return \"B\"\n",
    "    elif score >= 40:\n",
    "        return \"C\"\n",
    "    elif score >= 33:\n",
    "        return \"D\"\n",
    "    else:\n",
    "        return \"F\"\n",
    "\n",
    "print(grade_calculator(85))"
   ]
  },
  {
   "cell_type": "markdown",
   "id": "a5654a46",
   "metadata": {},
   "source": [
    "> Write a Python function is_prime(n) that checks if a number n is a prime number."
   ]
  },
  {
   "cell_type": "code",
   "execution_count": null,
   "id": "a240f28d",
   "metadata": {},
   "outputs": [],
   "source": [
    "def is_prime(n):\n",
    "    if n <= 1:\n",
    "        return False\n",
    "    for i in range(2, n):\n",
    "        if n % i == 0:\n",
    "            return False\n",
    "    return True\n",
    "\n",
    "number = 2\n",
    "if is_prime(number):\n",
    "    print(f\"{number} is a prime number.\")\n",
    "else:\n",
    "    print(f\"{number} is not a prime number.\")"
   ]
  },
  {
   "cell_type": "markdown",
   "id": "7adb4dcc",
   "metadata": {},
   "source": [
    "> Write a Python function get_key_by_value(d, value) that takes a dictionary d and a value value, and returns the key associated with that value. If the value is not found, return None."
   ]
  },
  {
   "cell_type": "code",
   "execution_count": null,
   "id": "458a0a51",
   "metadata": {},
   "outputs": [],
   "source": [
    "def get_key_by_value(d, value):\n",
    "    for key, val in d.items():\n",
    "        if val == value:\n",
    "            return key\n",
    "    return None\n",
    "\n",
    "my_dict = {\"a\": 1, \"b\": 2, \"c\": 3}\n",
    "print(get_key_by_value(my_dict, 2))"
   ]
  },
  {
   "cell_type": "markdown",
   "id": "20af7115",
   "metadata": {},
   "source": [
    "> Write a Python function update_dict_value(d, key, value) that updates the value of a given key in the dictionary d with the new value. Return the updated dictionary."
   ]
  },
  {
   "cell_type": "code",
   "execution_count": null,
   "id": "00a4054b",
   "metadata": {},
   "outputs": [],
   "source": [
    "def update_dict_value(d, key, value):\n",
    "    d[key] = value\n",
    "    return d\n",
    "\n",
    "my_dict = {\"a\": 1, \"b\": 2}\n",
    "print(update_dict_value(my_dict, \"b\", 5))"
   ]
  },
  {
   "cell_type": "markdown",
   "id": "7834de9f",
   "metadata": {},
   "source": [
    "> Write a Python function remove_key(d, key) that removes a specified key from the dictionary d. If the key exists, it should be deleted. Return the updated dictionary."
   ]
  },
  {
   "cell_type": "code",
   "execution_count": null,
   "id": "526fc49c",
   "metadata": {},
   "outputs": [],
   "source": [
    "def remove_key(d, key):\n",
    "    if key in d:\n",
    "        del d[key]\n",
    "    return d\n",
    "\n",
    "my_dict = {\"a\": 1, \"b\": 2, \"c\": 3}\n",
    "print(remove_key(my_dict, \"b\"))"
   ]
  },
  {
   "cell_type": "markdown",
   "id": "3508f164",
   "metadata": {},
   "source": [
    "> Write a Python function key_exists(d, key) that checks if a given key exists in the dictionary d."
   ]
  },
  {
   "cell_type": "code",
   "execution_count": null,
   "id": "54b23de9",
   "metadata": {},
   "outputs": [],
   "source": [
    "def key_exists(d, key):\n",
    "    return key in d\n",
    "\n",
    "my_dict = {\"a\": 1, \"b\": 2, \"c\": 3}\n",
    "print(key_exists(my_dict, \"b\"))\n",
    "print(key_exists(my_dict, \"d\"))"
   ]
  },
  {
   "cell_type": "markdown",
   "id": "110927d9",
   "metadata": {},
   "source": [
    "> Write a Python function traverse_nested_dict(d) that recursively traverses through a nested dictionary d. The function should print each key-value pair, and if the value is another dictionary, it should recurse into that dictionary."
   ]
  },
  {
   "cell_type": "code",
   "execution_count": null,
   "id": "cd66017b",
   "metadata": {},
   "outputs": [],
   "source": [
    "def traverse_nested_dict(d):\n",
    "    for key, value in d.items():\n",
    "        if isinstance(value, dict):\n",
    "            print(f\"{key}:\")\n",
    "            traverse_nested_dict(value)\n",
    "        else:\n",
    "            print(f\"{key}: {value}\")\n",
    "\n",
    "nested_dict = {\"a\": 1, \"b\": {\"x\": 10, \"y\": 20}, \"c\": 3}\n",
    "traverse_nested_dict(nested_dict)"
   ]
  },
  {
   "cell_type": "markdown",
   "id": "dba1eb57",
   "metadata": {},
   "source": [
    "### **Dictionary**"
   ]
  },
  {
   "cell_type": "markdown",
   "id": "c031c2d2",
   "metadata": {},
   "source": [
    "> Build  a Student Dictionary"
   ]
  },
  {
   "cell_type": "code",
   "execution_count": 9,
   "id": "a038cb79",
   "metadata": {},
   "outputs": [],
   "source": [
    "bubt_students = {\n",
    "    'squadName': 'BUBT Students',\n",
    "    'homeTown': 'Dhaka',\n",
    "    'formed': 2003,\n",
    "    'secretBase': 'BUBT Campus',\n",
    "    'active': True,\n",
    "    'members': [\n",
    "        {\n",
    "            'name': 'Arif Hasan',\n",
    "            'age': 22,\n",
    "            'secretIdentity': 'Arif',\n",
    "            'powers': ['ProblemSolving', 'Coding', 'WebDevelopment', 'Speed']\n",
    "        },\n",
    "        {\n",
    "            'name': 'Sakina Rahman',\n",
    "            'age': 21,\n",
    "            'secretIdentity': 'Sakina',\n",
    "            'powers': ['Designing', 'Creativity', 'Graphics', 'UXKnowledge']\n",
    "        },\n",
    "        {\n",
    "            'name': 'Tariq Ahmed',\n",
    "            'age': 23,\n",
    "            'secretIdentity': 'Tariq',\n",
    "            'powers': ['Mathematics', 'Optimization', 'DataAnalysis', 'ProblemSolving']\n",
    "        },\n",
    "        {\n",
    "            'name': 'Nadia Rahman',\n",
    "            'age': 22,\n",
    "            'secretIdentity': 'Nadia',\n",
    "            'powers': ['Leadership', 'Planning', 'ProblemSolving', 'WebDevelopment']\n",
    "        }\n",
    "    ]\n",
    "}"
   ]
  },
  {
   "cell_type": "markdown",
   "id": "29ffcb84",
   "metadata": {},
   "source": [
    "> Insert into Dictionary"
   ]
  },
  {
   "cell_type": "code",
   "execution_count": 11,
   "id": "4badc198",
   "metadata": {},
   "outputs": [
    {
     "name": "stdout",
     "output_type": "stream",
     "text": [
      "Student Razaul Islam added successfully!\n"
     ]
    }
   ],
   "source": [
    "def add_student(name, age, secret_identity, powers):\n",
    "    new_student = {\n",
    "        \"name\": name,\n",
    "        \"age\": age,\n",
    "        \"secretIdentity\": secret_identity,\n",
    "        \"powers\": powers\n",
    "    }\n",
    "    bubt_students['members'].append(new_student)\n",
    "    print(f\"Student {name} added successfully!\")\n",
    "\n",
    "add_student(\"Razaul Islam\", 24, \"Razaul\", [\"Great at AI\", \"Expert in Machine Learning\", \"Can analyze large datasets\"])"
   ]
  },
  {
   "cell_type": "markdown",
   "id": "f3ebd0d9",
   "metadata": {},
   "source": [
    "> Fatch From Dictionary"
   ]
  },
  {
   "cell_type": "code",
   "execution_count": 10,
   "id": "ae6eb9b4",
   "metadata": {},
   "outputs": [
    {
     "name": "stdout",
     "output_type": "stream",
     "text": [
      "{'name': 'Arif Hasan', 'age': 22, 'secretIdentity': 'Arif', 'powers': ['ProblemSolving', 'Coding', 'WebDevelopment', 'Speed']}\n"
     ]
    }
   ],
   "source": [
    "def get_student(name):\n",
    "    for student in bubt_students['members']:\n",
    "        if student['name'] == name:\n",
    "            return student\n",
    "    return f\"Student {name} not found.\"\n",
    "\n",
    "print(get_student(\"Arif Hasan\"))"
   ]
  },
  {
   "cell_type": "markdown",
   "id": "a0aff7a9",
   "metadata": {},
   "source": [
    "> Update Dictionary"
   ]
  },
  {
   "cell_type": "code",
   "execution_count": 12,
   "id": "2ad03011",
   "metadata": {},
   "outputs": [
    {
     "name": "stdout",
     "output_type": "stream",
     "text": [
      "Student Sakina Rahman updated successfully!\n"
     ]
    }
   ],
   "source": [
    "def update_student(name, new_age=None, new_powers=None):\n",
    "    for student in bubt_students['members']:\n",
    "        if student['name'] == name:\n",
    "            if new_age:\n",
    "                student['age'] = new_age\n",
    "            if new_powers:\n",
    "                student['powers'] = new_powers\n",
    "            print(f\"Student {name} updated successfully!\")\n",
    "            return\n",
    "    print(f\"Student {name} not found.\")\n",
    "\n",
    "update_student(\"Sakina Rahman\", new_age=22, new_powers=[\"Creative with new designs\", \"Knows how to design mobile apps\"])"
   ]
  },
  {
   "cell_type": "markdown",
   "id": "90e9ee5b",
   "metadata": {},
   "source": [
    "> Delete from Dictionary\n"
   ]
  },
  {
   "cell_type": "code",
   "execution_count": null,
   "id": "ef8eeed1",
   "metadata": {},
   "outputs": [],
   "source": [
    "def delete_student(name):\n",
    "    for student in bubt_students['members']:\n",
    "        if student['name'] == name:\n",
    "            bubt_students['members'].remove(student)\n",
    "            print(f\"Student {name} deleted successfully!\")\n",
    "            return\n",
    "    print(f\"Student {name} not found.\")\n",
    "\n",
    "\n",
    "delete_student(\"Tariq Ahmed\")"
   ]
  },
  {
   "cell_type": "code",
   "execution_count": 14,
   "id": "abf59d1d",
   "metadata": {},
   "outputs": [],
   "source": [
    "faculty = {\n",
    "    'Sudipto Chaki': {\n",
    "        'name': 'Sudipto Chaki',\n",
    "        'position': {\n",
    "            'title': 'Assistant Professor',\n",
    "            'department': 'Department of Computer Science & Engineering',\n",
    "            'faculty code': 'SCK',\n",
    "            'Email': 'sudiptochakibd@gmail.com',\n",
    "        },\n",
    "        'details': {\n",
    "            'class rating': '5',\n",
    "            'Specialist': 'AI',\n",
    "            'skills': ['Python', 'ML', 'GenAI']\n",
    "        }\n",
    "    },\n",
    "    'Anika Rahman': {\n",
    "        'name': 'Anika Rahman',\n",
    "        'position': {\n",
    "            'title': 'Lecturer',\n",
    "            'department': 'Department of Computer Science & Engineering',\n",
    "            'faculty code': 'ARK',\n",
    "            'Email': 'anika.rahman@example.com',\n",
    "        },\n",
    "        'details': {\n",
    "            'class rating': '4.7',\n",
    "            'Specialist': 'Cybersecurity',\n",
    "            'skills': ['Ethical Hacking', 'Network Security', 'Python']\n",
    "        }\n",
    "    },\n",
    "    'Tanvir Ahmed': {\n",
    "        'name': 'Tanvir Ahmed',\n",
    "        'position': {\n",
    "            'title': 'Professor',\n",
    "            'department': 'Department of Computer Science & Engineering',\n",
    "            'faculty code': 'TAH',\n",
    "            'Email': 'tanvir.ahmed@example.com',\n",
    "        },\n",
    "        'details': {\n",
    "            'class rating': '5',\n",
    "            'Specialist': 'Software Engineering',\n",
    "            'skills': ['Java', 'Agile Methodologies', 'System Design']\n",
    "        }\n",
    "    },\n",
    "    'Mahi Hasan': {\n",
    "        'name': 'Mahi Hasan',\n",
    "        'position': {\n",
    "            'title': 'Assistant Professor',\n",
    "            'department': 'Department of Computer Science & Engineering',\n",
    "            'faculty code': 'MHN',\n",
    "            'Email': 'mahi.hasan@example.com',\n",
    "        },\n",
    "        'details': {\n",
    "            'class rating': '4.8',\n",
    "            'Specialist': 'Robotics',\n",
    "            'skills': ['Robotics', 'C++', 'ROS']\n",
    "        }\n",
    "    },\n",
    "    'Sadia Islam': {\n",
    "        'name': 'Sadia Islam',\n",
    "        'position': {\n",
    "            'title': 'Lecturer',\n",
    "            'department': 'Department of Computer Science & Engineering',\n",
    "            'faculty code': 'SIS',\n",
    "            'Email': 'sadia.islam@example.com',\n",
    "        },\n",
    "        'details': {\n",
    "            'class rating': '4.6',\n",
    "            'Specialist': 'NLP',\n",
    "            'skills': ['NLP', 'Python', 'Hugging Face']\n",
    "        }\n",
    "    },\n",
    "    'Rafiq Rahman': {\n",
    "        'name': 'Rafiq Rahman',\n",
    "        'position': {\n",
    "            'title': 'Professor',\n",
    "            'department': 'Department of Computer Science & Engineering',\n",
    "            'faculty code': 'RRN',\n",
    "            'Email': 'rafiq.rahman@example.com',\n",
    "        },\n",
    "        'details': {\n",
    "            'class rating': '5',\n",
    "            'Specialist': 'Data Science',\n",
    "            'skills': ['R', 'Python', 'Pandas']\n",
    "        }\n",
    "    },\n",
    "    'Tania Akter': {\n",
    "        'name': 'Tania Akter',\n",
    "        'position': {\n",
    "            'title': 'Lecturer',\n",
    "            'department': 'Department of Computer Science & Engineering',\n",
    "            'faculty code': 'TAR',\n",
    "            'Email': 'tania.akter@example.com',\n",
    "        },\n",
    "        'details': {\n",
    "            'class rating': '4.5',\n",
    "            'Specialist': 'Computer Vision',\n",
    "            'skills': ['OpenCV', 'Deep Learning', 'TensorFlow']\n",
    "        }\n",
    "    },\n",
    "    'Nafis Hossain': {\n",
    "        'name': 'Nafis Hossain',\n",
    "        'position': {\n",
    "            'title': 'Assistant Professor',\n",
    "            'department': 'Department of Computer Science & Engineering',\n",
    "            'faculty code': 'NHN',\n",
    "            'Email': 'nafis.hossain@example.com',\n",
    "        },\n",
    "        'details': {\n",
    "            'class rating': '4.9',\n",
    "            'Specialist': 'Cloud Computing',\n",
    "            'skills': ['AWS', 'Azure', 'Kubernetes']\n",
    "        }\n",
    "    },\n",
    "    'Farzana Alam': {\n",
    "        'name': 'Farzana Alam',\n",
    "        'position': {\n",
    "            'title': 'Lecturer',\n",
    "            'department': 'Department of Computer Science & Engineering',\n",
    "            'faculty code': 'FAN',\n",
    "            'Email': 'farzana.alam@example.com',\n",
    "        },\n",
    "        'details': {\n",
    "            'class rating': '4.6',\n",
    "            'Specialist': 'Human-Computer Interaction',\n",
    "            'skills': ['UI/UX Design', 'Prototyping', 'Figma']\n",
    "        }\n",
    "    },\n",
    "    'Kamal Hossain': {\n",
    "        'name': 'Kamal Hossain',\n",
    "        'position': {\n",
    "            'title': 'Professor',\n",
    "            'department': 'Department of Computer Science & Engineering',\n",
    "            'faculty code': 'KHN',\n",
    "            'Email': 'kamal.hossain@example.com',\n",
    "        },\n",
    "        'details': {\n",
    "            'class rating': '5',\n",
    "            'Specialist': 'Algorithms',\n",
    "            'skills': ['Algorithm Design', 'Competitive Programming', 'C++']\n",
    "        }\n",
    "    }\n",
    "}"
   ]
  },
  {
   "cell_type": "markdown",
   "id": "aa1c8278",
   "metadata": {},
   "source": [
    "> Write a Python code snippet to find and print the email and specialist area of \"Mahi Hasan\" from the Faculty dictionary."
   ]
  },
  {
   "cell_type": "code",
   "execution_count": 16,
   "id": "a8c2b158",
   "metadata": {},
   "outputs": [
    {
     "name": "stdout",
     "output_type": "stream",
     "text": [
      "Email:  mahi.hasan@example.com\n",
      "Specialist:  Robotics\n"
     ]
    }
   ],
   "source": [
    "for i in faculty:\n",
    "  if i == 'Mahi Hasan':\n",
    "    print('Email: ',faculty[i]['position']['Email'])\n",
    "    print('Specialist: ',faculty[i]['details']['Specialist'])"
   ]
  },
  {
   "cell_type": "markdown",
   "id": "75b3bd48",
   "metadata": {},
   "source": [
    "> Write a Python function to count and return the number of professors in the Faculty dictionary."
   ]
  },
  {
   "cell_type": "code",
   "execution_count": 15,
   "id": "855075f3",
   "metadata": {},
   "outputs": [
    {
     "name": "stdout",
     "output_type": "stream",
     "text": [
      "3\n"
     ]
    }
   ],
   "source": [
    "count = 0\n",
    "for i in faculty:\n",
    "  if faculty[i]['position']['title'] == 'Professor':\n",
    "    count += 1\n",
    "print(count)"
   ]
  },
  {
   "cell_type": "markdown",
   "id": "dd0da7fb",
   "metadata": {},
   "source": [
    "> Write a Python snippet to determine which faculty member(s) has the highest class rating in the Faculty dictionary."
   ]
  },
  {
   "cell_type": "code",
   "execution_count": 18,
   "id": "cf851499",
   "metadata": {},
   "outputs": [
    {
     "name": "stdout",
     "output_type": "stream",
     "text": [
      "Sudipto Chaki : 5.0\n"
     ]
    }
   ],
   "source": [
    "highest_rating = 0\n",
    "highest_faculty = ''\n",
    "for i in faculty:\n",
    "  if float(faculty[i]['details']['class rating']) > highest_rating:\n",
    "    highest_rating = float(faculty[i]['details']['class rating'])\n",
    "    highest_faculty = i\n",
    "print(highest_faculty,':',highest_rating)"
   ]
  },
  {
   "cell_type": "markdown",
   "id": "f731748b",
   "metadata": {},
   "source": [
    "> Write a Python function that takes a skill (e.g., 'Python') as input and returns a list of faculty names who have that skill in their skillset."
   ]
  },
  {
   "cell_type": "code",
   "execution_count": 19,
   "id": "62e19ab5",
   "metadata": {},
   "outputs": [
    {
     "name": "stdout",
     "output_type": "stream",
     "text": [
      "Sudipto Chaki\n",
      "Anika Rahman\n",
      "Sadia Islam\n",
      "Rafiq Rahman\n"
     ]
    }
   ],
   "source": [
    "skl = input('Enter a skill: ')\n",
    "for i in faculty:\n",
    "  if skl in faculty[i]['details']['skills']:\n",
    "    print(i)"
   ]
  },
  {
   "cell_type": "markdown",
   "id": "5960f216",
   "metadata": {},
   "source": [
    "> Write a Python code snippet to add the following new faculty member to the Faculty dictionary."
   ]
  },
  {
   "cell_type": "code",
   "execution_count": 21,
   "id": "376ef573",
   "metadata": {},
   "outputs": [],
   "source": [
    "faculty.update({'New Faculty': {\n",
    "    'name': 'New Faculty',\n",
    "    'position': {\n",
    "        'title': 'Assistant Professor',\n",
    "        'department': 'Department of Computer Science & Engineering',\n",
    "        'faculty code': ''},\n",
    "     'details': {'class rating': '','Specialist': 'AI','skills': ['Python', 'ML', 'GenAI']}\n",
    "    }})"
   ]
  },
  {
   "cell_type": "code",
   "execution_count": 22,
   "id": "b7fd10d5",
   "metadata": {},
   "outputs": [
    {
     "data": {
      "text/plain": [
       "{'name': 'New Faculty',\n",
       " 'position': {'title': 'Assistant Professor',\n",
       "  'department': 'Department of Computer Science & Engineering',\n",
       "  'faculty code': ''},\n",
       " 'details': {'class rating': '',\n",
       "  'Specialist': 'AI',\n",
       "  'skills': ['Python', 'ML', 'GenAI']}}"
      ]
     },
     "execution_count": 22,
     "metadata": {},
     "output_type": "execute_result"
    }
   ],
   "source": [
    "faculty['New Faculty']"
   ]
  },
  {
   "cell_type": "markdown",
   "id": "4a9dfebb",
   "metadata": {},
   "source": [
    "### **Built-in Function**"
   ]
  },
  {
   "cell_type": "markdown",
   "id": "d5823ef9",
   "metadata": {},
   "source": [
    "> Mathematical function"
   ]
  },
  {
   "cell_type": "code",
   "execution_count": 24,
   "id": "ee0d0409",
   "metadata": {},
   "outputs": [
    {
     "name": "stdout",
     "output_type": "stream",
     "text": [
      "10\n"
     ]
    }
   ],
   "source": [
    "res = abs(-10)\n",
    "print(res)"
   ]
  },
  {
   "cell_type": "markdown",
   "id": "d0d4d465",
   "metadata": {},
   "source": [
    "> Maximum and minimum"
   ]
  },
  {
   "cell_type": "code",
   "execution_count": 25,
   "id": "adfeb080",
   "metadata": {},
   "outputs": [
    {
     "name": "stdout",
     "output_type": "stream",
     "text": [
      "8\n",
      "2\n"
     ]
    }
   ],
   "source": [
    "numbers = [3, 5, 7, 2, 8]\n",
    "print(max(numbers))\n",
    "print(min(numbers))"
   ]
  },
  {
   "cell_type": "markdown",
   "id": "dace890f",
   "metadata": {},
   "source": [
    "> Rounding"
   ]
  },
  {
   "cell_type": "code",
   "execution_count": 23,
   "id": "a042a384",
   "metadata": {},
   "outputs": [
    {
     "name": "stdout",
     "output_type": "stream",
     "text": [
      "3\n"
     ]
    }
   ],
   "source": [
    "print(round(3.44))"
   ]
  },
  {
   "cell_type": "markdown",
   "id": "573a30ca",
   "metadata": {},
   "source": [
    "> String function"
   ]
  },
  {
   "cell_type": "code",
   "execution_count": 26,
   "id": "bdfc48ed",
   "metadata": {},
   "outputs": [
    {
     "name": "stdout",
     "output_type": "stream",
     "text": [
      "PYTHON\n"
     ]
    }
   ],
   "source": [
    "name = \"Python\"\n",
    "print(name.upper())"
   ]
  },
  {
   "cell_type": "markdown",
   "id": "d7f7b573",
   "metadata": {},
   "source": [
    "> String length"
   ]
  },
  {
   "cell_type": "code",
   "execution_count": 27,
   "id": "e7fe7c2c",
   "metadata": {},
   "outputs": [
    {
     "name": "stdout",
     "output_type": "stream",
     "text": [
      "18\n"
     ]
    }
   ],
   "source": [
    "text = \"Python Programming\"\n",
    "print(len(text))"
   ]
  },
  {
   "cell_type": "markdown",
   "id": "f06d34c8",
   "metadata": {},
   "source": [
    "> Convert to uppercase and lowercase"
   ]
  },
  {
   "cell_type": "code",
   "execution_count": 28,
   "id": "c9cb89cc",
   "metadata": {},
   "outputs": [
    {
     "name": "stdout",
     "output_type": "stream",
     "text": [
      "PYTHON PROGRAMMING\n",
      "python programming\n"
     ]
    }
   ],
   "source": [
    "print(text.upper())\n",
    "print(text.lower())"
   ]
  },
  {
   "cell_type": "markdown",
   "id": "ef810d67",
   "metadata": {},
   "source": [
    "> Type conversion"
   ]
  },
  {
   "cell_type": "code",
   "execution_count": 29,
   "id": "bd44bccd",
   "metadata": {},
   "outputs": [
    {
     "name": "stdout",
     "output_type": "stream",
     "text": [
      "133\n"
     ]
    }
   ],
   "source": [
    "num_str = \"123\"\n",
    "print(int(num_str) + 10)"
   ]
  },
  {
   "cell_type": "markdown",
   "id": "610f6312",
   "metadata": {},
   "source": [
    "> Convert to integer"
   ]
  },
  {
   "cell_type": "code",
   "execution_count": 30,
   "id": "e081972f",
   "metadata": {},
   "outputs": [
    {
     "name": "stdout",
     "output_type": "stream",
     "text": [
      "10\n"
     ]
    }
   ],
   "source": [
    "\n",
    "float_number = 10.75\n",
    "print(int(float_number))"
   ]
  },
  {
   "cell_type": "markdown",
   "id": "160a8823",
   "metadata": {},
   "source": [
    "> Convert to float\n"
   ]
  },
  {
   "cell_type": "code",
   "execution_count": 31,
   "id": "b7063dd9",
   "metadata": {},
   "outputs": [
    {
     "name": "stdout",
     "output_type": "stream",
     "text": [
      "25.0\n"
     ]
    }
   ],
   "source": [
    "integer_number = 25\n",
    "print(float(integer_number))"
   ]
  },
  {
   "cell_type": "markdown",
   "id": "0e6972a8",
   "metadata": {},
   "source": [
    "> Input/Output\n"
   ]
  },
  {
   "cell_type": "code",
   "execution_count": 32,
   "id": "5090afdf",
   "metadata": {},
   "outputs": [
    {
     "name": "stdout",
     "output_type": "stream",
     "text": [
      "Hello, Aminul!\n"
     ]
    }
   ],
   "source": [
    "user_input = input(\"Enter your name: \")\n",
    "print(f\"Hello, {user_input}!\")"
   ]
  },
  {
   "cell_type": "markdown",
   "id": "442c2688",
   "metadata": {},
   "source": [
    "> Iterables"
   ]
  },
  {
   "cell_type": "code",
   "execution_count": null,
   "id": "9c6cf2dd",
   "metadata": {},
   "outputs": [],
   "source": [
    "\n",
    "for i in range(1, 5):\n",
    "    print(i)"
   ]
  },
  {
   "cell_type": "markdown",
   "id": "3799aa22",
   "metadata": {},
   "source": [
    ">  List and tuple conversion\n"
   ]
  },
  {
   "cell_type": "code",
   "execution_count": 33,
   "id": "8c100a64",
   "metadata": {},
   "outputs": [
    {
     "name": "stdout",
     "output_type": "stream",
     "text": [
      "[1, 2, 3]\n"
     ]
    }
   ],
   "source": [
    "sample_tuple = (1, 2, 3)\n",
    "print(list(sample_tuple))"
   ]
  },
  {
   "cell_type": "markdown",
   "id": "c69a8efa",
   "metadata": {},
   "source": [
    "> Enumerate"
   ]
  },
  {
   "cell_type": "code",
   "execution_count": 34,
   "id": "98030ff3",
   "metadata": {},
   "outputs": [
    {
     "name": "stdout",
     "output_type": "stream",
     "text": [
      "1 apple\n",
      "2 banana\n",
      "3 cherry\n"
     ]
    }
   ],
   "source": [
    "\n",
    "fruits = ['apple', 'banana', 'cherry']\n",
    "for index, fruit in enumerate(fruits, start=1):\n",
    "    print(index, fruit)"
   ]
  },
  {
   "cell_type": "markdown",
   "id": "105c6e2d",
   "metadata": {},
   "source": [
    "### **Exception Handling**\n",
    "\n",
    "Exception handling is a mechanism in programming to manage and respond to runtime\n",
    "errors (exceptions) in a controlled way. Instead of allowing the program to crash\n",
    "when an error occurs, you can handle the exception and decide what action to take,\n",
    "such as displaying a user-friendly message or performing a fallback operation."
   ]
  },
  {
   "cell_type": "markdown",
   "id": "e8f1cd2b",
   "metadata": {},
   "source": [
    "**Why is Exception Handling Needed?**\n",
    "\n",
    "1.To Avoid Program Crashes\n",
    "Without exception handling, a single error like dividing by zero can terminate your program.\n",
    "Handling exceptions ensures that your program gracefully recovers from unexpected situations."
   ]
  },
  {
   "cell_type": "code",
   "execution_count": null,
   "id": "bab7914d",
   "metadata": {},
   "outputs": [],
   "source": [
    "try:\n",
    "    result = 10 / 0\n",
    "except ZeroDivisionError:\n",
    "    print(\"Error: Cannot divide by zero.\")"
   ]
  },
  {
   "cell_type": "markdown",
   "id": "886b6712",
   "metadata": {},
   "source": [
    "2.Improve User Experience\n",
    "Instead of cryptic error messages, you can display clear, helpful information to users."
   ]
  },
  {
   "cell_type": "code",
   "execution_count": 35,
   "id": "9fcbad96",
   "metadata": {},
   "outputs": [
    {
     "name": "stdout",
     "output_type": "stream",
     "text": [
      "Please enter a valid number.\n"
     ]
    }
   ],
   "source": [
    "try:\n",
    "    age = int(input(\"Enter your age: \"))\n",
    "except ValueError:\n",
    "    print(\"Please enter a valid number.\")"
   ]
  },
  {
   "cell_type": "markdown",
   "id": "67e2bd3c",
   "metadata": {},
   "source": [
    "3. Handle Unpredictable Scenarios\n",
    "Errors like file not found, network issues, or invalid user input can occur\n",
    "unexpectedly.Exception handling ensures your program remains stable and predictable."
   ]
  },
  {
   "cell_type": "code",
   "execution_count": 36,
   "id": "4987b140",
   "metadata": {},
   "outputs": [
    {
     "name": "stdout",
     "output_type": "stream",
     "text": [
      "The file does not exist.\n"
     ]
    }
   ],
   "source": [
    "try:\n",
    "    with open(\"non_existent_file.txt\", \"r\") as file:\n",
    "        content = file.read()\n",
    "except FileNotFoundError:\n",
    "    print(\"The file does not exist.\")"
   ]
  },
  {
   "cell_type": "markdown",
   "id": "ecd1a692",
   "metadata": {},
   "source": [
    "4. Allow Cleanup of Resources\n",
    "When your program uses resources like files or network connections, exceptions\n",
    "might prevent proper cleanup. With exception handling, you can ensure resources\n",
    "are always released."
   ]
  },
  {
   "cell_type": "code",
   "execution_count": null,
   "id": "0b6788d5",
   "metadata": {},
   "outputs": [],
   "source": [
    "try:\n",
    "    file = open(\"example.txt\", \"r\")\n",
    "    content = file.read()\n",
    "except FileNotFoundError:\n",
    "    print(\"File not found.\")\n",
    "finally:\n",
    "    file.close()  # Ensures the file is always closed"
   ]
  },
  {
   "cell_type": "markdown",
   "id": "74594756",
   "metadata": {},
   "source": [
    "5.Maintain Code Flow\n",
    "Exception handling allows the program to continue executing even if an error\n",
    "occurs in part of the code. Without it, the program stops entirely."
   ]
  },
  {
   "cell_type": "code",
   "execution_count": 38,
   "id": "0b65ec8a",
   "metadata": {},
   "outputs": [
    {
     "name": "stdout",
     "output_type": "stream",
     "text": [
      "1.0\n",
      "Program continues running.\n"
     ]
    }
   ],
   "source": [
    "try:\n",
    "    num = int(input(\"Enter a number: \"))\n",
    "    print(10 / num)\n",
    "except ZeroDivisionError:\n",
    "    print(\"You cannot divide by zero.\")\n",
    "except ValueError:\n",
    "    print(\"Invalid input.\")\n",
    "print(\"Program continues running.\")"
   ]
  },
  {
   "cell_type": "markdown",
   "id": "7b316791",
   "metadata": {},
   "source": [
    "Key Benefits of Exception Handling\n",
    "Prevents program crashes.\n",
    "Improves program reliability and robustness.\n",
    "Enables custom error messages for better debugging and user interaction.\n",
    "Simplifies error detection and resolution.\n",
    "\n",
    "\n",
    "When Is It Used?\n",
    "Validating user inputs (e.g., checking for valid numbers or file paths).\n",
    "Managing external resources (e.g., files, databases, APIs).\n",
    "Handling operations prone to errors (e.g., division, type conversion).\n",
    "Working with external devices or networks where failures are possible."
   ]
  },
  {
   "cell_type": "code",
   "execution_count": 43,
   "id": "bcadcdd4",
   "metadata": {},
   "outputs": [
    {
     "name": "stdout",
     "output_type": "stream",
     "text": [
      "Error: Please enter valid numeric values.\n",
      "Thank you for using the program.\n"
     ]
    }
   ],
   "source": [
    "try:\n",
    "    num1 = float(input(\"Enter the first number: \"))\n",
    "    num2 = float(input(\"Enter the second number: \"))\n",
    "    result = num1 / num2\n",
    "    print(f\"The result is: {result}\")\n",
    "except ZeroDivisionError:\n",
    "    print(\"Error: Division by zero is not allowed.\")\n",
    "except ValueError:\n",
    "    print(\"Error: Please enter valid numeric values.\")\n",
    "else:\n",
    "    print(\"Division performed successfully.\")\n",
    "finally:\n",
    "    print(\"Thank you for using the program.\")"
   ]
  },
  {
   "cell_type": "markdown",
   "id": "1a91adfa",
   "metadata": {},
   "source": [
    "> handling file operations"
   ]
  },
  {
   "cell_type": "code",
   "execution_count": 44,
   "id": "8c76b751",
   "metadata": {},
   "outputs": [
    {
     "name": "stdout",
     "output_type": "stream",
     "text": [
      "Error: The file 'sample.txt' does not exist.\n",
      "File operation completed.\n"
     ]
    }
   ],
   "source": [
    "try:\n",
    "    filename = input(\"Enter the file name to read: \")\n",
    "    with open(filename, \"r\") as file:\n",
    "        content = file.read()\n",
    "    print(\"File content:\")\n",
    "    print(content)\n",
    "except FileNotFoundError:\n",
    "    print(f\"Error: The file '{filename}' does not exist.\")\n",
    "except PermissionError:\n",
    "    print(f\"Error: You don't have permission to access the file '{filename}'.\")\n",
    "else:\n",
    "    print(\"File read successfully!\")\n",
    "finally:\n",
    "    print(\"File operation completed.\")"
   ]
  },
  {
   "cell_type": "markdown",
   "id": "5c5dc0d8",
   "metadata": {},
   "source": [
    "> ATM Withdrawal Simulation"
   ]
  },
  {
   "cell_type": "code",
   "execution_count": 46,
   "id": "b24d4d08",
   "metadata": {},
   "outputs": [
    {
     "name": "stdout",
     "output_type": "stream",
     "text": [
      "Error: Insufficient balance.\n",
      "Thank you for using our ATM service.\n"
     ]
    }
   ],
   "source": [
    "class InsufficientFundsError(Exception):\n",
    "    pass\n",
    "\n",
    "try:\n",
    "    balance = 500  # Example balance in the account\n",
    "    amount = float(input(\"Enter the withdrawal amount: $\"))\n",
    "\n",
    "    if amount < 0:\n",
    "        raise ValueError(\"Amount cannot be negative.\")\n",
    "    elif amount > balance:\n",
    "        raise InsufficientFundsError(\"Insufficient balance.\")\n",
    "\n",
    "    balance -= amount\n",
    "    print(f\"Withdrawal successful! Remaining balance: ${balance:.2f}\")\n",
    "except ValueError as ve:\n",
    "    print(f\"Invalid input: {ve}\")\n",
    "except InsufficientFundsError as ife:\n",
    "    print(f\"Error: {ife}\")\n",
    "finally:\n",
    "    print(\"Thank you for using our ATM service.\")"
   ]
  },
  {
   "cell_type": "markdown",
   "id": "47be4f3e",
   "metadata": {},
   "source": [
    "> Errors Type"
   ]
  },
  {
   "cell_type": "code",
   "execution_count": 47,
   "id": "62ac15bb",
   "metadata": {},
   "outputs": [
    {
     "name": "stdout",
     "output_type": "stream",
     "text": [
      "BaseException\n",
      "    BaseExceptionGroup\n",
      "        ExceptionGroup\n",
      "    Exception\n",
      "        ArithmeticError\n",
      "            FloatingPointError\n",
      "            OverflowError\n",
      "            ZeroDivisionError\n",
      "                DivisionByZero\n",
      "                DivisionUndefined\n",
      "            DecimalException\n",
      "                Clamped\n",
      "                Rounded\n",
      "                    Underflow\n",
      "                    Overflow\n",
      "                Inexact\n",
      "                    Underflow\n",
      "                    Overflow\n",
      "                Subnormal\n",
      "                    Underflow\n",
      "                DivisionByZero\n",
      "                FloatOperation\n",
      "                InvalidOperation\n",
      "                    ConversionSyntax\n",
      "                    DivisionImpossible\n",
      "                    DivisionUndefined\n",
      "                    InvalidContext\n",
      "        AssertionError\n",
      "        AttributeError\n",
      "            FrozenInstanceError\n",
      "        BufferError\n",
      "        EOFError\n",
      "            IncompleteReadError\n",
      "        ImportError\n",
      "            ModuleNotFoundError\n",
      "                PackageNotFoundError\n",
      "            ZipImportError\n",
      "        LookupError\n",
      "            IndexError\n",
      "                IllegalMonthError\n",
      "            KeyError\n",
      "                NoSuchKernel\n",
      "                UnknownBackend\n",
      "            CodecRegistryError\n",
      "        MemoryError\n",
      "        NameError\n",
      "            UnboundLocalError\n",
      "        OSError\n",
      "            BlockingIOError\n",
      "            ChildProcessError\n",
      "            ConnectionError\n",
      "                BrokenPipeError\n",
      "                ConnectionAbortedError\n",
      "                ConnectionRefusedError\n",
      "                ConnectionResetError\n",
      "                    RemoteDisconnected\n",
      "            FileExistsError\n",
      "            FileNotFoundError\n",
      "            InterruptedError\n",
      "                InterruptedSystemCall\n",
      "            IsADirectoryError\n",
      "            NotADirectoryError\n",
      "            PermissionError\n",
      "            ProcessLookupError\n",
      "            TimeoutError\n",
      "            UnsupportedOperation\n",
      "            itimer_error\n",
      "            herror\n",
      "            gaierror\n",
      "            SSLError\n",
      "                SSLCertVerificationError\n",
      "                SSLZeroReturnError\n",
      "                SSLWantWriteError\n",
      "                SSLWantReadError\n",
      "                SSLSyscallError\n",
      "                SSLEOFError\n",
      "            Error\n",
      "                SameFileError\n",
      "            SpecialFileError\n",
      "            ExecError\n",
      "            ReadError\n",
      "            URLError\n",
      "                HTTPError\n",
      "                ContentTooShortError\n",
      "            BadGzipFile\n",
      "        ReferenceError\n",
      "        RuntimeError\n",
      "            NotImplementedError\n",
      "                ZMQVersionError\n",
      "                StdinNotImplementedError\n",
      "            RecursionError\n",
      "            _DeadlockError\n",
      "            BrokenBarrierError\n",
      "            BrokenExecutor\n",
      "                BrokenThreadPool\n",
      "            SendfileNotAvailableError\n",
      "            BrokenBarrierError\n",
      "            VariableError\n",
      "        StopAsyncIteration\n",
      "        StopIteration\n",
      "        SyntaxError\n",
      "            IndentationError\n",
      "                TabError\n",
      "        SystemError\n",
      "            CodecRegistryError\n",
      "        TypeError\n",
      "            FloatOperation\n",
      "            MultipartConversionError\n",
      "        ValueError\n",
      "            UnicodeError\n",
      "                UnicodeDecodeError\n",
      "                UnicodeEncodeError\n",
      "                UnicodeTranslateError\n",
      "            UnsupportedOperation\n",
      "            AddressValueError\n",
      "            NetmaskValueError\n",
      "            JSONDecodeError\n",
      "            SSLCertVerificationError\n",
      "            Error\n",
      "            UnsupportedDigestmodError\n",
      "            IllegalMonthError\n",
      "            IllegalWeekdayError\n",
      "            ParserError\n",
      "            MessageDefect\n",
      "                NoBoundaryInMultipartDefect\n",
      "                StartBoundaryNotFoundDefect\n",
      "                CloseBoundaryNotFoundDefect\n",
      "                FirstHeaderLineIsContinuationDefect\n",
      "                MisplacedEnvelopeHeaderDefect\n",
      "                MissingHeaderBodySeparatorDefect\n",
      "                MultipartInvariantViolationDefect\n",
      "                InvalidMultipartContentTransferEncodingDefect\n",
      "                UndecodableBytesDefect\n",
      "                InvalidBase64PaddingDefect\n",
      "                InvalidBase64CharactersDefect\n",
      "                InvalidBase64LengthDefect\n",
      "                HeaderDefect\n",
      "                    InvalidHeaderDefect\n",
      "                    HeaderMissingRequiredValue\n",
      "                    NonPrintableDefect\n",
      "                    ObsoleteHeaderDefect\n",
      "                    NonASCIILocalPartDefect\n",
      "                    InvalidDateDefect\n",
      "            ClassNotFound\n",
      "            ClipboardEmpty\n",
      "            MacroToEdit\n",
      "            InvalidVersion\n",
      "        Warning\n",
      "            BytesWarning\n",
      "            DeprecationWarning\n",
      "                ProvisionalWarning\n",
      "            EncodingWarning\n",
      "            FutureWarning\n",
      "                ProvisionalCompleterWarning\n",
      "            ImportWarning\n",
      "            PendingDeprecationWarning\n",
      "            ResourceWarning\n",
      "            RuntimeWarning\n",
      "                ProactorSelectorThreadWarning\n",
      "                UnknownTimezoneWarning\n",
      "            SyntaxWarning\n",
      "            UnicodeWarning\n",
      "            UserWarning\n",
      "                GetPassWarning\n",
      "                FormatterWarning\n",
      "            DeprecatedTzFormatWarning\n",
      "        ExceptionGroup\n",
      "        _OptionError\n",
      "        _Error\n",
      "        error\n",
      "        SubprocessError\n",
      "            CalledProcessError\n",
      "            TimeoutExpired\n",
      "        ZMQBaseError\n",
      "            ZMQError\n",
      "                ContextTerminated\n",
      "                Again\n",
      "                InterruptedSystemCall\n",
      "            ZMQBindError\n",
      "            NotDone\n",
      "        error\n",
      "        PickleError\n",
      "            PicklingError\n",
      "            UnpicklingError\n",
      "        _Stop\n",
      "        TokenError\n",
      "        StopTokenizing\n",
      "        Error\n",
      "            CancelledError\n",
      "            InvalidStateError\n",
      "        _GiveupOnSendfile\n",
      "        Incomplete\n",
      "        ClassFoundException\n",
      "        EndOfBlock\n",
      "        InvalidStateError\n",
      "        LimitOverrunError\n",
      "        QueueEmpty\n",
      "        QueueFull\n",
      "        TraitError\n",
      "        Error\n",
      "        Empty\n",
      "        Full\n",
      "        error\n",
      "        error\n",
      "        ReturnValueIgnoredError\n",
      "        ArgumentError\n",
      "        ArgumentTypeError\n",
      "        ConfigError\n",
      "            ConfigLoaderError\n",
      "                ArgumentError\n",
      "            ConfigFileNotFound\n",
      "        ConfigurableError\n",
      "            MultipleInstanceError\n",
      "        ApplicationError\n",
      "        Error\n",
      "        InvalidPortNumber\n",
      "        error\n",
      "        LZMAError\n",
      "        RegistryError\n",
      "        _GiveupOnFastCopy\n",
      "        Error\n",
      "            NoSectionError\n",
      "            DuplicateSectionError\n",
      "            DuplicateOptionError\n",
      "            NoOptionError\n",
      "            InterpolationError\n",
      "                InterpolationMissingOptionError\n",
      "                InterpolationSyntaxError\n",
      "                InterpolationDepthError\n",
      "            ParsingError\n",
      "                MissingSectionHeaderError\n",
      "        NoIPAddresses\n",
      "        Error\n",
      "        BadZipFile\n",
      "        LargeZipFile\n",
      "        MessageError\n",
      "            MessageParseError\n",
      "                HeaderParseError\n",
      "                BoundaryError\n",
      "            MultipartConversionError\n",
      "            CharsetError\n",
      "            HeaderWriteError\n",
      "        TraversalError\n",
      "        DuplicateKernelError\n",
      "        ErrorDuringImport\n",
      "        NotOneValueFound\n",
      "        CannotEval\n",
      "        OptionError\n",
      "        BdbQuit\n",
      "        Restart\n",
      "        FindCmdError\n",
      "        HomeDirError\n",
      "        ProfileDirError\n",
      "        IPythonCoreError\n",
      "            TryNext\n",
      "            UsageError\n",
      "            StdinNotImplementedError\n",
      "        InputRejected\n",
      "        GetoptError\n",
      "        ErrorToken\n",
      "        PrefilterError\n",
      "        AliasError\n",
      "            InvalidAliasError\n",
      "        Error\n",
      "            InterfaceError\n",
      "            DatabaseError\n",
      "                InternalError\n",
      "                OperationalError\n",
      "                ProgrammingError\n",
      "                IntegrityError\n",
      "                DataError\n",
      "                NotSupportedError\n",
      "        Warning\n",
      "        SpaceInInput\n",
      "        DOMException\n",
      "            IndexSizeErr\n",
      "            DomstringSizeErr\n",
      "            HierarchyRequestErr\n",
      "            WrongDocumentErr\n",
      "            InvalidCharacterErr\n",
      "            NoDataAllowedErr\n",
      "            NoModificationAllowedErr\n",
      "            NotFoundErr\n",
      "            NotSupportedErr\n",
      "            InuseAttributeErr\n",
      "            InvalidStateErr\n",
      "            SyntaxErr\n",
      "            InvalidModificationErr\n",
      "            NamespaceErr\n",
      "            InvalidAccessErr\n",
      "            ValidationErr\n",
      "        ValidationError\n",
      "        EditReadOnlyBuffer\n",
      "        _Retry\n",
      "        InvalidLayoutError\n",
      "        HeightIsUnknownError\n",
      "        GuardRejection\n",
      "        ParserSyntaxError\n",
      "        InternalParseError\n",
      "        _PositionUpdatingFinished\n",
      "        SimpleGetItemNotFound\n",
      "        UncaughtAttributeError\n",
      "        HasNoContext\n",
      "        ParamIssue\n",
      "        _JediError\n",
      "            InternalError\n",
      "            WrongVersion\n",
      "            RefactoringError\n",
      "        OnErrorLeaf\n",
      "        InvalidPythonEnvironment\n",
      "        HTTPException\n",
      "            NotConnected\n",
      "            InvalidURL\n",
      "            UnknownProtocol\n",
      "            UnknownTransferEncoding\n",
      "            UnimplementedFileMode\n",
      "            IncompleteRead\n",
      "            ImproperConnectionState\n",
      "                CannotSendRequest\n",
      "                CannotSendHeader\n",
      "                ResponseNotReady\n",
      "            BadStatusLine\n",
      "                RemoteDisconnected\n",
      "            LineTooLong\n",
      "        InteractivelyDefined\n",
      "        KillEmbedded\n",
      "        Error\n",
      "            NoSuchProcess\n",
      "                ZombieProcess\n",
      "            AccessDenied\n",
      "            TimeoutExpired\n",
      "        _Ipv6UnsupportedError\n",
      "        KeyReuseError\n",
      "        UnknownKeyError\n",
      "        LeakedCallbackError\n",
      "        BadYieldError\n",
      "        ReturnValueIgnoredError\n",
      "        Return\n",
      "        QueueEmpty\n",
      "        QueueFull\n",
      "        ArgumentError\n",
      "        DebuggerInitializationError\n",
      "        ExpatError\n",
      "        Error\n",
      "            ProtocolError\n",
      "            ResponseError\n",
      "            Fault\n",
      "        _Error\n",
      "        UnableToResolveVariableException\n",
      "        InvalidTypeInArgsException\n",
      "        InsufficientFundsError\n",
      "    GeneratorExit\n",
      "    KeyboardInterrupt\n",
      "    SystemExit\n",
      "    CancelledError\n"
     ]
    }
   ],
   "source": [
    "import inspect\n",
    "\n",
    "def display_exception_hierarchy(base_exception, indent=0):\n",
    "    \"\"\"Recursively display the hierarchy of exception classes.\"\"\"\n",
    "    print(\" \" * indent + base_exception.__name__)\n",
    "    subclasses = base_exception.__subclasses__()\n",
    "    for subclass in subclasses:\n",
    "        display_exception_hierarchy(subclass, indent + 4)\n",
    "\n",
    "# Display the hierarchy starting from BaseException\n",
    "display_exception_hierarchy(BaseException)"
   ]
  },
  {
   "cell_type": "markdown",
   "id": "22af3ceb",
   "metadata": {},
   "source": [
    "> Why not If/Else"
   ]
  },
  {
   "cell_type": "markdown",
   "id": "c20e82b2",
   "metadata": {},
   "source": [
    "1. Separation of Concerns\n",
    "if-else is good for normal logic flow, where you want to check a condition and\n",
    "make decisions based on it. However, error handling requires a separate logic\n",
    "flow to deal with issues when they arise, which is why exceptions are more suitable.\n",
    "\n",
    "Exception handling allows you to keep the normal logic clean and separates the\n",
    "error handling code from the rest of your logic. This makes your code easier to"
   ]
  },
  {
   "cell_type": "code",
   "execution_count": null,
   "id": "e12be430",
   "metadata": {},
   "outputs": [],
   "source": [
    "# Using if-else to check for division by zero\n",
    "numerator = 10\n",
    "denominator = 0\n",
    "\n",
    "if denominator != 0:\n",
    "    result = numerator / denominator\n",
    "else:\n",
    "    print(\"Error: Cannot divide by zero\")\n",
    "\n",
    "\n",
    "\n",
    "try:\n",
    "    result = numerator / denominator\n",
    "except ZeroDivisionError:\n",
    "    print(\"Error: Cannot divide by zero\")"
   ]
  },
  {
   "cell_type": "markdown",
   "id": "3d8d885a",
   "metadata": {},
   "source": [
    "2. Error-Driven Logic\n",
    "Exceptions are meant for handling unexpected or exceptional conditions.\n",
    "Using if-else for every potential error case is inefficient and adds unnecessary\n",
    "checks throughout your code.\n",
    "\n",
    "When you use exceptions, Python will automatically raise an error when something\n",
    "goes wrong (e.g., trying to divide by zero, file not found, invalid input).\n",
    "The program will then jump directly to the exception handler, which is the\n",
    "ideal approach when you dont know in advance if or when an error will occur.\n"
   ]
  },
  {
   "cell_type": "code",
   "execution_count": null,
   "id": "597b7b3e",
   "metadata": {},
   "outputs": [],
   "source": [
    "# Using if-else for file handling is difficult\n",
    "file_path = \"data.txt\"\n",
    "if os.path.exists(file_path):\n",
    "    with open(file_path, 'r') as file:\n",
    "        content = file.read()\n",
    "else:\n",
    "    print(\"Error: File not found!\")\n",
    "\n",
    "\n",
    "try:\n",
    "    with open(file_path, 'r') as file:\n",
    "        content = file.read()\n",
    "except FileNotFoundError:\n",
    "    print(\"Error: File not found!\")"
   ]
  },
  {
   "cell_type": "markdown",
   "id": "776af8cd",
   "metadata": {},
   "source": [
    "Here, the exception handling is much more straightforward. We don’t need to\n",
    "manually check if the file exists before trying to open it. If it doesn’t exist,\n",
    "an exception will be raised automatically, which we can handle in the except block."
   ]
  },
  {
   "cell_type": "markdown",
   "id": "13bce7b0",
   "metadata": {},
   "source": [
    "> Pratice Problem\n",
    "\n",
    "\n",
    "Write a program to unlock a vault with a numeric password. The password must be a positive number divisible by both 3 and 5. If the user enters a non-numeric value, show \"Invalid input! Enter a number.\" If the number is negative, show \"Error: Password cannot be negative.\" For numbers not divisible by 3 and 5, show \"Access Denied: Password invalid.\" If the password is valid, display \"Access Granted! Vault unlocked.\" Handle errors using try-except."
   ]
  },
  {
   "cell_type": "code",
   "execution_count": null,
   "id": "5059f8e5",
   "metadata": {},
   "outputs": [],
   "source": [
    "try:\n",
    "    password = int(input(\"Enter the secret password: \"))\n",
    "    if password < 0:\n",
    "        raise ValueError(\"Negative password\")\n",
    "    if password % 3 == 0 and password % 5 == 0:\n",
    "        print(\"Access Granted! Vault unlocked.\")\n",
    "    else:\n",
    "        print(\"Access Denied: Password invalid.\")\n",
    "except ValueError as e:\n",
    "    print(\"Error: Password cannot be negative.\" if str(e) == \"Negative password\" else \"Invalid input! Enter a number.\")\n",
    "except Exception as e:\n",
    "    print(f\"Unexpected error: {e}\")"
   ]
  },
  {
   "cell_type": "markdown",
   "id": "e0e195e1",
   "metadata": {},
   "source": [
    "Write a program that asks the user for a filename, opens it, and reads its content. If the file doesn’t exist, display \"Error: File not found.\" If the file is empty, display \"Error: File is empty.\" Ensure the file is closed properly in all cases."
   ]
  },
  {
   "cell_type": "code",
   "execution_count": null,
   "id": "beea43c9",
   "metadata": {},
   "outputs": [],
   "source": [
    "try:\n",
    "    filename = input(\"Enter the filename to read: \")\n",
    "    file = open(filename, 'r')\n",
    "    content = file.read()\n",
    "    if not content:\n",
    "        raise ValueError(\"File is empty\")\n",
    "    print(\"File content:\\n\", content)\n",
    "except FileNotFoundError:\n",
    "    print(\"Error: File not found.\")\n",
    "except ValueError as e:\n",
    "    print(\"Error:\", e)\n",
    "except Exception as e:\n",
    "    print(f\"An unexpected error occurred: {e}\")\n",
    "finally:\n",
    "    try:\n",
    "        file.close()\n",
    "    except NameError:\n",
    "        pass  # File was never opened, so nothing to close"
   ]
  }
 ],
 "metadata": {
  "kernelspec": {
   "display_name": "butterfly",
   "language": "python",
   "name": "python3"
  },
  "language_info": {
   "codemirror_mode": {
    "name": "ipython",
    "version": 3
   },
   "file_extension": ".py",
   "mimetype": "text/x-python",
   "name": "python",
   "nbconvert_exporter": "python",
   "pygments_lexer": "ipython3",
   "version": "3.12.9"
  }
 },
 "nbformat": 4,
 "nbformat_minor": 5
}
