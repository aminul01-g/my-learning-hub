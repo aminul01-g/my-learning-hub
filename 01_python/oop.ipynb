{
 "cells": [
  {
   "cell_type": "markdown",
   "id": "ad5ae868",
   "metadata": {},
   "source": [
    "# What is OOP?\n",
    "\n",
    "Object-Oriented Programming (OOP) is a paradigm based on the concept of \"objects,\" which can contain data (attributes) and methods (functions).\n",
    "\n",
    "Key Concepts:\n",
    "- **Class**: A blueprint for creating objects.\n",
    "- **Object**: An instance of a class.\n",
    "- **Attributes**: Variables that belong to an object.\n",
    "- **Methods**: Functions that belong to an object.\n",
    "\n",
    "Advantages of OOP:\n",
    "1. Code reusability through inheritance.\n",
    "2. Improved code organization.\n",
    "3. Easier debugging and maintenance.\n",
    "\n",
    "Real-world Examples:\n",
    "*   A **Car** object with attributes like brand and color, and methods like **start** and **stop**.\n",
    "*   A **BankAccount** object with attributes like account_balance, and methods like **deposit** and **withdraw**."
   ]
  },
  {
   "cell_type": "markdown",
   "id": "43383a70",
   "metadata": {},
   "source": [
    "# Object and Class\n",
    "object = A \"bundle\" of related attributes (variables) and methods (functions).\n",
    "\n",
    "Ex. phone, cup, book.\n",
    "\n",
    "You need a \"class\" to create many objects.\n",
    "\n",
    "\n",
    "---\n",
    "\n",
    "\n",
    "class  = (blueprint) used to design the structure and layout of an object."
   ]
  },
  {
   "cell_type": "code",
   "execution_count": 2,
   "id": "1c1f552c",
   "metadata": {},
   "outputs": [],
   "source": [
    "class Car:\n",
    "  def __init__(self, model, year, color, for_sale): # constructor\n",
    "    self.model = model\n",
    "    self.year = year\n",
    "    self.color = color\n",
    "    self.for_sale = for_sale\n",
    "\n",
    "  def drive(self): # method\n",
    "    print(\"You drive the car\")\n",
    "    #print(f\"You drive the {self.model}\")\n",
    "\n",
    "  def stop(self): # method\n",
    "    print(\"You stop the car\")\n",
    "    #print(f\"You drive the {self.model}\")"
   ]
  },
  {
   "cell_type": "code",
   "execution_count": 3,
   "id": "3c1a5d28",
   "metadata": {},
   "outputs": [
    {
     "name": "stdout",
     "output_type": "stream",
     "text": [
      "<__main__.Car object at 0x7e79354339b0>\n"
     ]
    }
   ],
   "source": [
    "car1 = Car(\"Mustang\", 2024, \"red\", False) # object\n",
    "\n",
    "print(car1)\n",
    "#print(car1.model)\n",
    "#print(car1.year)\n",
    "#print(car1.color)\n",
    "#print(car1.for_sale)"
   ]
  },
  {
   "cell_type": "code",
   "execution_count": 4,
   "id": "06d77258",
   "metadata": {},
   "outputs": [
    {
     "name": "stdout",
     "output_type": "stream",
     "text": [
      "BMW\n",
      "2025\n",
      "blue\n",
      "True\n"
     ]
    }
   ],
   "source": [
    "car2 = Car(\"BMW\", 2025, \"blue\", True)\n",
    "\n",
    "print(car2.model)\n",
    "print(car2.year)\n",
    "print(car2.color)\n",
    "print(car2.for_sale)"
   ]
  },
  {
   "cell_type": "code",
   "execution_count": 5,
   "id": "6a250bb2",
   "metadata": {},
   "outputs": [
    {
     "name": "stdout",
     "output_type": "stream",
     "text": [
      "You drive the car\n"
     ]
    }
   ],
   "source": [
    "car1.drive()"
   ]
  },
  {
   "cell_type": "code",
   "execution_count": 6,
   "id": "39434977",
   "metadata": {},
   "outputs": [
    {
     "name": "stdout",
     "output_type": "stream",
     "text": [
      "You stop the car\n"
     ]
    }
   ],
   "source": [
    "car2.stop()"
   ]
  },
  {
   "cell_type": "markdown",
   "id": "8e502de1",
   "metadata": {},
   "source": [
    "# Class Variables\n",
    "class variables = Shared among all the instancces of a class.\n",
    "\n",
    "Defined outside the constructor.\n",
    "\n",
    "Allow you to share data among all the objects created from the class."
   ]
  },
  {
   "cell_type": "code",
   "execution_count": 7,
   "id": "136ac1a7",
   "metadata": {},
   "outputs": [],
   "source": [
    "class Student:\n",
    "  class_year = 2024\n",
    "  num_students = 0\n",
    "\n",
    "  def __init__(self, name, age): # constructor\n",
    "    self.name = name\n",
    "    self.age = age\n",
    "    Student.num_students += 1"
   ]
  },
  {
   "cell_type": "code",
   "execution_count": 8,
   "id": "b92c5c62",
   "metadata": {},
   "outputs": [],
   "source": [
    "student1 = Student(\"Spongebob\", 30)\n",
    "student2 = Student(\"Patrick\", 35)"
   ]
  },
  {
   "cell_type": "code",
   "execution_count": 9,
   "id": "35963d42",
   "metadata": {},
   "outputs": [
    {
     "name": "stdout",
     "output_type": "stream",
     "text": [
      "Spongebob\n",
      "35\n",
      "2024\n",
      "2024\n",
      "2024\n"
     ]
    }
   ],
   "source": [
    "print(student1.name)\n",
    "print(student2.age)\n",
    "print(student1.class_year)\n",
    "print(student2.class_year)\n",
    "print(Student.class_year)"
   ]
  },
  {
   "cell_type": "code",
   "execution_count": 10,
   "id": "c01192e8",
   "metadata": {},
   "outputs": [
    {
     "name": "stdout",
     "output_type": "stream",
     "text": [
      "2\n"
     ]
    }
   ],
   "source": [
    "print(Student.num_students)"
   ]
  },
  {
   "cell_type": "markdown",
   "id": "d0fa045a",
   "metadata": {},
   "source": [
    "# Practice Tasks:\n",
    "1.   Create a **Person** class with attributes like **name** and **age**, and a method to display details.\n",
    "2.   Design a **Book** class with attributes **title** and **author**, and a method to print the book information.\n",
    "3.   Bonus: Create a **Student** class with methods to calculate grades based on scores."
   ]
  },
  {
   "cell_type": "markdown",
   "id": "14f62919",
   "metadata": {},
   "source": [
    "# Inheritance\n",
    "Inheritance = Allows a class to inherit attributes and methods from another class.\n",
    "\n",
    "Helps with code reusability and extensibility.\n",
    "\n",
    "*class Child (Parent).*"
   ]
  },
  {
   "cell_type": "code",
   "execution_count": 11,
   "id": "96406acc",
   "metadata": {},
   "outputs": [],
   "source": [
    "class Animal:\n",
    "  def __init__(self, name): # constructor\n",
    "    self.name = name\n",
    "    self.is_alive = True\n",
    "\n",
    "  def eat(self):\n",
    "    print(f\"{self.name} is eating\")\n",
    "\n",
    "  def sleep(self):\n",
    "    print(f\"{self.name} is sleeping\")"
   ]
  },
  {
   "cell_type": "code",
   "execution_count": 12,
   "id": "d312b84f",
   "metadata": {},
   "outputs": [],
   "source": [
    "class Dog(Animal):\n",
    "  def speak(self):\n",
    "    print(\"WOOF!\")"
   ]
  },
  {
   "cell_type": "code",
   "execution_count": 13,
   "id": "b327fe1a",
   "metadata": {},
   "outputs": [],
   "source": [
    "class Cat(Animal):\n",
    "  def speak(self):\n",
    "    print(\"MEOW!\")"
   ]
  },
  {
   "cell_type": "code",
   "execution_count": 14,
   "id": "0b1ec7dc",
   "metadata": {},
   "outputs": [],
   "source": [
    "class Mouse(Animal):\n",
    "  def speak(self):\n",
    "    print(\"SQUEEK!\")"
   ]
  },
  {
   "cell_type": "code",
   "execution_count": 15,
   "id": "5df7f35f",
   "metadata": {},
   "outputs": [],
   "source": [
    "dog = Dog(\"Scooby\")\n",
    "cat = Cat(\"Garfield\")\n",
    "mouse = Mouse(\"Mickey\")"
   ]
  },
  {
   "cell_type": "code",
   "execution_count": 16,
   "id": "bf20eb41",
   "metadata": {},
   "outputs": [
    {
     "name": "stdout",
     "output_type": "stream",
     "text": [
      "Scooby\n",
      "True\n",
      "Scooby is eating\n",
      "Scooby is sleeping\n"
     ]
    }
   ],
   "source": [
    "print(dog.name)\n",
    "print(dog.is_alive)\n",
    "dog.eat()\n",
    "dog.sleep()"
   ]
  },
  {
   "cell_type": "code",
   "execution_count": 17,
   "id": "e3a5e3e2",
   "metadata": {},
   "outputs": [
    {
     "name": "stdout",
     "output_type": "stream",
     "text": [
      "Garfield\n",
      "True\n",
      "Garfield is eating\n",
      "Garfield is sleeping\n"
     ]
    }
   ],
   "source": [
    "print(cat.name)\n",
    "print(cat.is_alive)\n",
    "cat.eat()\n",
    "cat.sleep()"
   ]
  },
  {
   "cell_type": "code",
   "execution_count": 18,
   "id": "89acea35",
   "metadata": {},
   "outputs": [
    {
     "name": "stdout",
     "output_type": "stream",
     "text": [
      "WOOF!\n",
      "MEOW!\n"
     ]
    }
   ],
   "source": [
    "dog.speak()\n",
    "cat.speak()"
   ]
  },
  {
   "cell_type": "markdown",
   "id": "4bd42f7c",
   "metadata": {},
   "source": [
    "# Multiple and Multilevel Inheritance\n",
    "Multiple Inheritance = inherit from more than one parent class, C(A, B)\n",
    "\n",
    "\n",
    "---\n",
    "\n",
    "\n",
    "Multilevel Inheritance = inherit from a parent which inherit from another parent, C(B) <- B(A) <- A"
   ]
  },
  {
   "cell_type": "code",
   "execution_count": 19,
   "id": "cb8f3ddd",
   "metadata": {},
   "outputs": [],
   "source": [
    "class Animal:\n",
    "  def eat(self):\n",
    "    print(\"This animal is eating\")\n",
    "\n",
    "class Prey(Animal):\n",
    "  def flee(self):\n",
    "    print(\"This animal is fleeing\")\n",
    "\n",
    "class Predator(Animal):\n",
    "  def hunt(self):\n",
    "    print(\"This animal is hunting\")\n",
    "\n",
    "class Rabbit(Prey):\n",
    "  pass\n",
    "\n",
    "class Hawk(Predator):\n",
    "  pass\n",
    "\n",
    "class Fish(Prey, Predator):\n",
    "  pass"
   ]
  },
  {
   "cell_type": "code",
   "execution_count": 20,
   "id": "b3971342",
   "metadata": {},
   "outputs": [
    {
     "name": "stdout",
     "output_type": "stream",
     "text": [
      "This animal is fleeing\n",
      "This animal is hunting\n",
      "This animal is fleeing\n",
      "This animal is hunting\n"
     ]
    }
   ],
   "source": [
    "rabbit = Rabbit()\n",
    "rabbit.flee()\n",
    "\n",
    "hawk = Hawk()\n",
    "hawk.hunt()\n",
    "\n",
    "fish = Fish()\n",
    "fish.flee()\n",
    "fish.hunt()"
   ]
  },
  {
   "cell_type": "code",
   "execution_count": 21,
   "id": "9f300056",
   "metadata": {},
   "outputs": [
    {
     "name": "stdout",
     "output_type": "stream",
     "text": [
      "This animal is eating\n",
      "This animal is eating\n"
     ]
    }
   ],
   "source": [
    "rabbit.eat()\n",
    "fish.eat()"
   ]
  },
  {
   "cell_type": "markdown",
   "id": "27226255",
   "metadata": {},
   "source": [
    "# Abstract Class\n",
    "abstract class = a class that cannot be instantiated on its own; meant to be subclassed.\n",
    "\n",
    "They can contain abstract methods, which are declared but have no implementation.\n",
    "\n",
    "Abstract classes benifits:\n",
    "\n",
    "1.   Prevents instantiation of the class itself\n",
    "2.   Requires children to use inherited abstract methods"
   ]
  },
  {
   "cell_type": "code",
   "execution_count": 22,
   "id": "f48fb850",
   "metadata": {},
   "outputs": [],
   "source": [
    "from abc import ABC, abstractmethod\n",
    "\n",
    "class Vehicle(ABC):\n",
    "\n",
    "  @abstractmethod # property decorator\n",
    "  def go(self):\n",
    "    pass\n",
    "\n",
    "  @abstractmethod\n",
    "  def stop(self):\n",
    "    pass"
   ]
  },
  {
   "cell_type": "code",
   "execution_count": 23,
   "id": "709524e6",
   "metadata": {},
   "outputs": [],
   "source": [
    "class Car(Vehicle): # need to define all abstract methods\n",
    "  def go(self):\n",
    "    print(\"You drive the car\")\n",
    "\n",
    "  def stop(self):\n",
    "    print(\"You stop the car\")"
   ]
  },
  {
   "cell_type": "code",
   "execution_count": 24,
   "id": "c9f9fa94",
   "metadata": {},
   "outputs": [
    {
     "name": "stdout",
     "output_type": "stream",
     "text": [
      "You drive the car\n",
      "You stop the car\n"
     ]
    }
   ],
   "source": [
    "car = Car()\n",
    "car.go()\n",
    "car.stop()"
   ]
  },
  {
   "cell_type": "code",
   "execution_count": 25,
   "id": "5325268f",
   "metadata": {},
   "outputs": [],
   "source": [
    "class Motorcycle(Vehicle): # need to define all abstract methods\n",
    "  def go(self):\n",
    "    print(\"You ride the motorcycle\")\n",
    "\n",
    "  def stop(self):\n",
    "    print(\"You stop the motorcycle\")"
   ]
  },
  {
   "cell_type": "code",
   "execution_count": 26,
   "id": "23c2208e",
   "metadata": {},
   "outputs": [
    {
     "name": "stdout",
     "output_type": "stream",
     "text": [
      "You ride the motorcycle\n",
      "You stop the motorcycle\n"
     ]
    }
   ],
   "source": [
    "motorcycle = Motorcycle()\n",
    "motorcycle.go()\n",
    "motorcycle.stop()"
   ]
  },
  {
   "cell_type": "markdown",
   "id": "1396997d",
   "metadata": {},
   "source": [
    "# Encapsulation\n",
    "We are facing one more abstraction which is called **encapsulation**.\n",
    "\n",
    "**Access Modifiers:**\n",
    "*   **Public:** attribute_name (can be accessed anywhere);\n",
    "*   **Protected:** _attribute_name (can be accessed only in the class as well as from all child classes);\n",
    "*   **Private:** __attribute_name (can be accessed only in that class in which has been defined).\n",
    "\n",
    "Why do we need them?\n",
    "\n",
    "Some attributes might be valuable for a class and we may want to prevent them from changing or accessing outside the class. Let's Have a look:"
   ]
  },
  {
   "cell_type": "code",
   "execution_count": 27,
   "id": "e3c6677d",
   "metadata": {},
   "outputs": [
    {
     "name": "stdout",
     "output_type": "stream",
     "text": [
      "Alice\n",
      "HR\n"
     ]
    }
   ],
   "source": [
    "class Employee:\n",
    "    def __init__(self, name, salary):\n",
    "        self.name = name           # Public\n",
    "        self._department = \"HR\"    # Protected\n",
    "        self.__salary = salary     # Private\n",
    "\n",
    "emp = Employee(\"Alice\", 50000)\n",
    "print(emp.name)           # Public: Accessible (Output: Alice)\n",
    "print(emp._department)    # Protected: Accessible, but not recommended (Output: HR)\n",
    "#print(emp.__salary)     # Private: Raises an AttributeError"
   ]
  },
  {
   "cell_type": "markdown",
   "id": "979419d3",
   "metadata": {},
   "source": [
    "# Using Getters and Setters to Control Access"
   ]
  },
  {
   "cell_type": "code",
   "execution_count": 29,
   "id": "d3131ac7",
   "metadata": {},
   "outputs": [
    {
     "name": "stdout",
     "output_type": "stream",
     "text": [
      "60000\n",
      "70000\n",
      "Salary must be positive!\n"
     ]
    }
   ],
   "source": [
    "class Employee:\n",
    "    def __init__(self, name, salary):\n",
    "        self.name = name\n",
    "        self.__salary = salary  # Private attribute\n",
    "\n",
    "    # Getter: Read private data\n",
    "    def get_salary(self):\n",
    "        return self.__salary\n",
    "\n",
    "    # Setter: Modify private data with validation\n",
    "    def set_salary(self, salary):\n",
    "        if salary > 0:\n",
    "            self.__salary = salary\n",
    "        else:\n",
    "            print(\"Salary must be positive!\")\n",
    "\n",
    "emp = Employee(\"Bob\", 60000)\n",
    "print(emp.get_salary())   # Output: 60000\n",
    "\n",
    "emp.set_salary(70000)     # Modifies salary\n",
    "print(emp.get_salary())   # Output: 70000\n",
    "\n",
    "emp.set_salary(-5000)     # Output: Salary must be positive!\n"
   ]
  },
  {
   "cell_type": "markdown",
   "id": "b0d7c233",
   "metadata": {},
   "source": [
    "# Super Function\n",
    "super() = Function used in a child class to call methods from a parent class (superclass).\n",
    "\n",
    "Allows you to extend the functionality of the inherited methods."
   ]
  },
  {
   "cell_type": "code",
   "execution_count": 30,
   "id": "bcdc2c1b",
   "metadata": {},
   "outputs": [],
   "source": [
    "from abc import ABC, abstractmethod\n",
    "\n",
    "class Shape:\n",
    "  def __init__(self, color, is_filled):\n",
    "    self.color = color\n",
    "    self.is_filled = is_filled\n",
    "\n",
    "  def describe(self): # extend the functionality\n",
    "    print(f\"It is {self.color} and {'filled' if self.is_filled else 'not filled'}\")\n",
    "\n",
    "  @abstractmethod\n",
    "  def area(self):\n",
    "    pass"
   ]
  },
  {
   "cell_type": "code",
   "execution_count": 31,
   "id": "1d0139e7",
   "metadata": {},
   "outputs": [],
   "source": [
    "class Circle(Shape):\n",
    "  def __init__(self, color, is_filled, radius):\n",
    "    #self.color = color\n",
    "    #self.is_filled = is_filled\n",
    "    super().__init__(color, is_filled)\n",
    "    self.radius = radius\n",
    "\n",
    "  #def describe(self):\n",
    "    #print(f\"It is a circle with an area of {3.14 * self.radius * self.radius}cm^2\")\n",
    "    #super().describe()\n",
    "\n",
    "  def area(self):\n",
    "    return 3.14 * self.radius * self.radius\n",
    "\n",
    "class Square(Shape):\n",
    "  def __init__(self, color, is_filled, width):\n",
    "    #self.color = color\n",
    "    #self.is_filled = is_filled\n",
    "    super().__init__(color, is_filled)\n",
    "    self.width = width\n",
    "\n",
    "  def area(self):\n",
    "    return self.width * self.width\n",
    "\n",
    "class Triangle(Shape):\n",
    "  def __init__(self, color, is_filled, width, height):\n",
    "    #self.color = color\n",
    "    #self.is_filled = is_filled\n",
    "    super().__init__(color, is_filled)\n",
    "    self.width = width\n",
    "    self.height = height\n",
    "\n",
    "  def area(self):\n",
    "    return self.width * self.height * 0.5\n",
    "\n",
    "class Pizza(Circle):\n",
    "  def __init__(self, color, is_filled, radius, topping):\n",
    "    super().__init__(color, is_filled, radius)\n",
    "    self.topping = topping"
   ]
  },
  {
   "cell_type": "code",
   "execution_count": 32,
   "id": "65a0da60",
   "metadata": {},
   "outputs": [
    {
     "name": "stdout",
     "output_type": "stream",
     "text": [
      "red\n",
      "True\n",
      "5cm\n"
     ]
    }
   ],
   "source": [
    "circle = Circle(\"red\", True, 5)\n",
    "\n",
    "print(circle.color)\n",
    "print(circle.is_filled)\n",
    "print(f\"{circle.radius}cm\")"
   ]
  },
  {
   "cell_type": "code",
   "execution_count": 33,
   "id": "820f6d64",
   "metadata": {},
   "outputs": [
    {
     "name": "stdout",
     "output_type": "stream",
     "text": [
      "blue\n",
      "False\n",
      "7cm\n",
      "8cm\n"
     ]
    }
   ],
   "source": [
    "triangle = Triangle(\"blue\", False, 7, 8)\n",
    "\n",
    "print(triangle.color)\n",
    "print(triangle.is_filled)\n",
    "print(f\"{triangle.width}cm\")\n",
    "print(f\"{triangle.height}cm\")"
   ]
  },
  {
   "cell_type": "code",
   "execution_count": 34,
   "id": "5e0fb887",
   "metadata": {},
   "outputs": [
    {
     "name": "stdout",
     "output_type": "stream",
     "text": [
      "It is red and filled\n",
      "It is blue and not filled\n"
     ]
    }
   ],
   "source": [
    "circle.describe()\n",
    "triangle.describe()"
   ]
  },
  {
   "cell_type": "markdown",
   "id": "2682380a",
   "metadata": {},
   "source": [
    "# Polymorphism\n",
    "Polymorphism = Greek word that means to \"have many forms or faces\".\n",
    "(Poly = Many, Morphe = Form)\n",
    "\n",
    "2 ways to achieve Polymorphism:\n",
    "1.   Inheritance = An object could be treated of the same type as a parent class.\n",
    "2.   \"Duck typing\" = Object must have necessary attributes/methods.\n"
   ]
  },
  {
   "cell_type": "code",
   "execution_count": 35,
   "id": "460d122a",
   "metadata": {},
   "outputs": [
    {
     "name": "stdout",
     "output_type": "stream",
     "text": [
      "78.5\n",
      "49\n",
      "28.0\n",
      "78.5\n"
     ]
    }
   ],
   "source": [
    "shapes = [Circle(\"red\", True, 5), Square(\"yello\", False, 7), Triangle(\"blue\", True, 7, 8), Pizza(\"Grey\", True, 5, \"pepperoni\")]\n",
    "\n",
    "for shape in shapes:\n",
    "  print(shape.area())"
   ]
  },
  {
   "cell_type": "markdown",
   "id": "66353eca",
   "metadata": {},
   "source": [
    "# Duck Typing\n",
    "Another way to achieve polymorphism besides Inheritance.\n",
    "\n",
    "Object must have the minimum necessary attributes/methods.\n",
    "\n",
    "### If it looks like a duck and quacks like a duck, it must be a duck."
   ]
  },
  {
   "cell_type": "code",
   "execution_count": 36,
   "id": "b0f65cf8",
   "metadata": {},
   "outputs": [],
   "source": [
    "class Animal:\n",
    "  alive = True\n",
    "\n",
    "class Dog(Animal):\n",
    "  def speak(self):\n",
    "    print(\"WOOF!\")\n",
    "\n",
    "class Cat(Animal):\n",
    "  def speak(self):\n",
    "    print(\"MEOW!\")\n",
    "\n",
    "class Car():\n",
    "\n",
    "  alive = False\n",
    "\n",
    "  def speak(self):\n",
    "    print(\"HONK!\")"
   ]
  },
  {
   "cell_type": "code",
   "execution_count": 37,
   "id": "aa97d11d",
   "metadata": {},
   "outputs": [
    {
     "name": "stdout",
     "output_type": "stream",
     "text": [
      "WOOF!\n",
      "MEOW!\n",
      "HONK!\n"
     ]
    }
   ],
   "source": [
    "animals = [Dog(), Cat(), Car()]\n",
    "\n",
    "for animal in animals:\n",
    "  animal.speak()\n",
    "  #print(animal.alive)"
   ]
  },
  {
   "cell_type": "markdown",
   "id": "6341bfb0",
   "metadata": {},
   "source": [
    "# Method Overriding"
   ]
  },
  {
   "cell_type": "code",
   "execution_count": 38,
   "id": "1398e77f",
   "metadata": {},
   "outputs": [],
   "source": [
    "class Animal:\n",
    "    def speak(self):\n",
    "        print(\"This animal makes a sound.\")\n",
    "\n",
    "class Dog(Animal):\n",
    "    def speak(self):  # Overriding the speak method\n",
    "        print(\"The dog barks.\")\n",
    "\n",
    "class Cat(Animal):\n",
    "    def speak(self):  # Overriding the speak method\n",
    "        print(\"The cat meows.\")"
   ]
  },
  {
   "cell_type": "code",
   "execution_count": 39,
   "id": "7e1d2055",
   "metadata": {},
   "outputs": [
    {
     "name": "stdout",
     "output_type": "stream",
     "text": [
      "The dog barks.\n",
      "The cat meows.\n"
     ]
    }
   ],
   "source": [
    "animals = [Dog(), Cat()]\n",
    "for animal in animals:\n",
    "    animal.speak()"
   ]
  },
  {
   "cell_type": "markdown",
   "id": "c59f009d",
   "metadata": {},
   "source": [
    "# Method Overloading"
   ]
  },
  {
   "cell_type": "code",
   "execution_count": 40,
   "id": "8bb790da",
   "metadata": {},
   "outputs": [
    {
     "name": "stdout",
     "output_type": "stream",
     "text": [
      "5\n",
      "15\n",
      "20\n"
     ]
    }
   ],
   "source": [
    "class MathOperations:\n",
    "    def add(self, a, b=0, c=0):  # Second parameter has a default value\n",
    "        return a + b + c\n",
    "\n",
    "math = MathOperations()\n",
    "print(math.add(5))       # Output: 5 (uses default value for b)\n",
    "print(math.add(5, 10))   # Output: 15\n",
    "print(math.add(5, 10, 5))   # Output: 20"
   ]
  },
  {
   "cell_type": "code",
   "execution_count": 41,
   "id": "cff0a19d",
   "metadata": {},
   "outputs": [
    {
     "name": "stdout",
     "output_type": "stream",
     "text": [
      "15\n",
      "10\n"
     ]
    }
   ],
   "source": [
    "class MathOperations:\n",
    "    def add(self, *args):\n",
    "        return sum(args)  # Sums up all arguments provided\n",
    "\n",
    "math = MathOperations()\n",
    "print(math.add(5, 10))        # Output: 15\n",
    "print(math.add(1, 2, 3, 4))   # Output: 10"
   ]
  },
  {
   "cell_type": "markdown",
   "id": "34a52b37",
   "metadata": {},
   "source": [
    "# Mini Project: Bank Management System\n",
    "*   **Objective**: Build a simple system with the following features:\n",
    "    \n",
    "    1. Create a new account.\n",
    "    2. Deposit money.\n",
    "    3. Withdraw money.\n",
    "    4. Display account details.\n",
    "*   **Step-by-step Outline:**\n",
    "    1. **Define the BankAccount class:**\n",
    "\n",
    "       Attributes: account_number, account_holder, balance.\n",
    "\n",
    "       Methods: deposit(), withdraw(), display_balance().\n",
    "\n",
    "    2. **Implement user interaction:**\n",
    "\n",
    "       Use input() to get user actions.\n",
    "\n",
    "       Perform corresponding operations based on input.\n",
    "*   **Practice Add-ons:**\n",
    "    1. Allow the user to create multiple accounts.\n",
    "    2. Implement input validation (e.g., non-negative deposits/withdrawals).\n",
    "    3. Add account management features like deleting accounts."
   ]
  },
  {
   "cell_type": "markdown",
   "id": "082aa227",
   "metadata": {},
   "source": []
  }
 ],
 "metadata": {
  "kernelspec": {
   "display_name": "butterfly",
   "language": "python",
   "name": "python3"
  },
  "language_info": {
   "codemirror_mode": {
    "name": "ipython",
    "version": 3
   },
   "file_extension": ".py",
   "mimetype": "text/x-python",
   "name": "python",
   "nbconvert_exporter": "python",
   "pygments_lexer": "ipython3",
   "version": "3.12.9"
  }
 },
 "nbformat": 4,
 "nbformat_minor": 5
}
